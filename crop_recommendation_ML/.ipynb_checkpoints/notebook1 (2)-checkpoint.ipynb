{
 "cells": [
  {
   "cell_type": "markdown",
   "metadata": {},
   "source": [
    "The data used in this project is made by augmenting and combining various publicly available datasets of India like weather, soil, etc. You can access the dataset [here](https://www.kaggle.com/atharvaingle/crop-recommendation-dataset). This data is relatively simple with very few but useful features unlike the complicated features affecting the yield of the crop.\n",
    "\n",
    "The data have Nitrogen, Phosphorous, Pottasium and pH values of the soil. Also, it also contains the humidity, temperature and rainfall required for a particular crop. "
   ]
  },
  {
   "cell_type": "code",
   "execution_count": 1,
   "metadata": {
    "execution": {
     "iopub.execute_input": "2024-02-23T15:09:35.305865Z",
     "iopub.status.busy": "2024-02-23T15:09:35.305437Z",
     "iopub.status.idle": "2024-02-23T15:09:35.312911Z",
     "shell.execute_reply": "2024-02-23T15:09:35.312011Z",
     "shell.execute_reply.started": "2024-02-23T15:09:35.305829Z"
    }
   },
   "outputs": [],
   "source": [
    "# Importing libraries\n",
    "\n",
    "from __future__ import print_function\n",
    "import pandas as pd\n",
    "import numpy as np\n",
    "import matplotlib.pyplot as plt\n",
    "import seaborn as sns\n",
    "from sklearn.metrics import classification_report\n",
    "from sklearn import metrics\n",
    "from sklearn import tree\n",
    "import warnings\n",
    "warnings.filterwarnings('ignore')"
   ]
  },
  {
   "cell_type": "code",
   "execution_count": 4,
   "metadata": {
    "execution": {
     "iopub.execute_input": "2024-02-23T15:09:36.392129Z",
     "iopub.status.busy": "2024-02-23T15:09:36.391471Z",
     "iopub.status.idle": "2024-02-23T15:09:36.405313Z",
     "shell.execute_reply": "2024-02-23T15:09:36.404302Z",
     "shell.execute_reply.started": "2024-02-23T15:09:36.392049Z"
    }
   },
   "outputs": [],
   "source": [
    "import pandas as pd\n",
    "df = pd.read_csv('indiancrop_dataset.csv')"
   ]
  },
  {
   "cell_type": "code",
   "execution_count": 5,
   "metadata": {
    "execution": {
     "iopub.execute_input": "2024-02-23T15:09:53.316524Z",
     "iopub.status.busy": "2024-02-23T15:09:53.315866Z",
     "iopub.status.idle": "2024-02-23T15:09:53.334311Z",
     "shell.execute_reply": "2024-02-23T15:09:53.333445Z",
     "shell.execute_reply.started": "2024-02-23T15:09:53.316485Z"
    }
   },
   "outputs": [
    {
     "data": {
      "text/html": [
       "<div>\n",
       "<style scoped>\n",
       "    .dataframe tbody tr th:only-of-type {\n",
       "        vertical-align: middle;\n",
       "    }\n",
       "\n",
       "    .dataframe tbody tr th {\n",
       "        vertical-align: top;\n",
       "    }\n",
       "\n",
       "    .dataframe thead th {\n",
       "        text-align: right;\n",
       "    }\n",
       "</style>\n",
       "<table border=\"1\" class=\"dataframe\">\n",
       "  <thead>\n",
       "    <tr style=\"text-align: right;\">\n",
       "      <th></th>\n",
       "      <th>N_SOIL</th>\n",
       "      <th>P_SOIL</th>\n",
       "      <th>K_SOIL</th>\n",
       "      <th>TEMPERATURE</th>\n",
       "      <th>HUMIDITY</th>\n",
       "      <th>ph</th>\n",
       "      <th>RAINFALL</th>\n",
       "      <th>STATE</th>\n",
       "      <th>CROP_PRICE</th>\n",
       "      <th>CROP</th>\n",
       "    </tr>\n",
       "  </thead>\n",
       "  <tbody>\n",
       "    <tr>\n",
       "      <th>0</th>\n",
       "      <td>90</td>\n",
       "      <td>42</td>\n",
       "      <td>43</td>\n",
       "      <td>20.879744</td>\n",
       "      <td>82.002744</td>\n",
       "      <td>6.502985</td>\n",
       "      <td>202.935536</td>\n",
       "      <td>Andaman and Nicobar</td>\n",
       "      <td>7000</td>\n",
       "      <td>Rice</td>\n",
       "    </tr>\n",
       "    <tr>\n",
       "      <th>1</th>\n",
       "      <td>85</td>\n",
       "      <td>58</td>\n",
       "      <td>41</td>\n",
       "      <td>21.770462</td>\n",
       "      <td>80.319644</td>\n",
       "      <td>7.038096</td>\n",
       "      <td>226.655537</td>\n",
       "      <td>Andaman and Nicobar</td>\n",
       "      <td>5000</td>\n",
       "      <td>Rice</td>\n",
       "    </tr>\n",
       "    <tr>\n",
       "      <th>2</th>\n",
       "      <td>60</td>\n",
       "      <td>55</td>\n",
       "      <td>44</td>\n",
       "      <td>23.004459</td>\n",
       "      <td>82.320763</td>\n",
       "      <td>7.840207</td>\n",
       "      <td>263.964248</td>\n",
       "      <td>Andaman and Nicobar</td>\n",
       "      <td>7000</td>\n",
       "      <td>Rice</td>\n",
       "    </tr>\n",
       "    <tr>\n",
       "      <th>3</th>\n",
       "      <td>74</td>\n",
       "      <td>35</td>\n",
       "      <td>40</td>\n",
       "      <td>26.491096</td>\n",
       "      <td>80.158363</td>\n",
       "      <td>6.980401</td>\n",
       "      <td>242.864034</td>\n",
       "      <td>Andaman and Nicobar</td>\n",
       "      <td>7000</td>\n",
       "      <td>Rice</td>\n",
       "    </tr>\n",
       "    <tr>\n",
       "      <th>4</th>\n",
       "      <td>78</td>\n",
       "      <td>42</td>\n",
       "      <td>42</td>\n",
       "      <td>20.130175</td>\n",
       "      <td>81.604873</td>\n",
       "      <td>7.628473</td>\n",
       "      <td>262.717340</td>\n",
       "      <td>Andaman and Nicobar</td>\n",
       "      <td>120000</td>\n",
       "      <td>Rice</td>\n",
       "    </tr>\n",
       "  </tbody>\n",
       "</table>\n",
       "</div>"
      ],
      "text/plain": [
       "   N_SOIL  P_SOIL  K_SOIL  TEMPERATURE   HUMIDITY        ph    RAINFALL  \\\n",
       "0      90      42      43    20.879744  82.002744  6.502985  202.935536   \n",
       "1      85      58      41    21.770462  80.319644  7.038096  226.655537   \n",
       "2      60      55      44    23.004459  82.320763  7.840207  263.964248   \n",
       "3      74      35      40    26.491096  80.158363  6.980401  242.864034   \n",
       "4      78      42      42    20.130175  81.604873  7.628473  262.717340   \n",
       "\n",
       "                 STATE  CROP_PRICE  CROP  \n",
       "0  Andaman and Nicobar        7000  Rice  \n",
       "1  Andaman and Nicobar        5000  Rice  \n",
       "2  Andaman and Nicobar        7000  Rice  \n",
       "3  Andaman and Nicobar        7000  Rice  \n",
       "4  Andaman and Nicobar      120000  Rice  "
      ]
     },
     "execution_count": 5,
     "metadata": {},
     "output_type": "execute_result"
    }
   ],
   "source": [
    "df.head()"
   ]
  },
  {
   "cell_type": "code",
   "execution_count": 6,
   "metadata": {
    "execution": {
     "iopub.execute_input": "2024-02-23T15:10:09.762765Z",
     "iopub.status.busy": "2024-02-23T15:10:09.762062Z",
     "iopub.status.idle": "2024-02-23T15:10:09.773496Z",
     "shell.execute_reply": "2024-02-23T15:10:09.772184Z",
     "shell.execute_reply.started": "2024-02-23T15:10:09.762721Z"
    }
   },
   "outputs": [
    {
     "data": {
      "text/plain": [
       "N_SOIL         0\n",
       "P_SOIL         0\n",
       "K_SOIL         0\n",
       "TEMPERATURE    0\n",
       "HUMIDITY       0\n",
       "ph             0\n",
       "RAINFALL       0\n",
       "STATE          0\n",
       "CROP_PRICE     0\n",
       "CROP           0\n",
       "dtype: int64"
      ]
     },
     "execution_count": 6,
     "metadata": {},
     "output_type": "execute_result"
    }
   ],
   "source": [
    "df.isna().sum()"
   ]
  },
  {
   "cell_type": "code",
   "execution_count": 7,
   "metadata": {
    "execution": {
     "iopub.execute_input": "2024-02-23T15:10:14.067086Z",
     "iopub.status.busy": "2024-02-23T15:10:14.066638Z",
     "iopub.status.idle": "2024-02-23T15:10:14.074921Z",
     "shell.execute_reply": "2024-02-23T15:10:14.073870Z",
     "shell.execute_reply.started": "2024-02-23T15:10:14.067044Z"
    }
   },
   "outputs": [
    {
     "data": {
      "text/plain": [
       "array(['Andaman and Nicobar', 'Andhra Pradesh', 'Assam', 'Chattisgarh',\n",
       "       'Goa', 'Gujarat', 'Haryana', 'Himachal Pradesh',\n",
       "       'Jammu and Kashmir', 'Karnataka', 'Kerala', 'Madhya Pradesh',\n",
       "       'Maharashtra', 'Manipur', 'Meghalaya', 'Nagaland', 'Odisha',\n",
       "       'Pondicherry', 'Punjab', 'Rajasthan', 'Tamil Nadu', 'Telangana',\n",
       "       'Tripura', 'Uttar Pradesh', 'Uttrakhand', 'West Bengal'],\n",
       "      dtype=object)"
      ]
     },
     "execution_count": 7,
     "metadata": {},
     "output_type": "execute_result"
    }
   ],
   "source": [
    "df['STATE'].unique()"
   ]
  },
  {
   "cell_type": "code",
   "execution_count": 8,
   "metadata": {
    "execution": {
     "iopub.execute_input": "2024-02-23T15:10:15.415050Z",
     "iopub.status.busy": "2024-02-23T15:10:15.414621Z",
     "iopub.status.idle": "2024-02-23T15:10:15.421816Z",
     "shell.execute_reply": "2024-02-23T15:10:15.420712Z",
     "shell.execute_reply.started": "2024-02-23T15:10:15.415010Z"
    }
   },
   "outputs": [
    {
     "data": {
      "text/plain": [
       "(2200, 10)"
      ]
     },
     "execution_count": 8,
     "metadata": {},
     "output_type": "execute_result"
    }
   ],
   "source": [
    "df.shape"
   ]
  },
  {
   "cell_type": "code",
   "execution_count": 9,
   "metadata": {
    "execution": {
     "iopub.execute_input": "2024-02-23T15:10:16.720484Z",
     "iopub.status.busy": "2024-02-23T15:10:16.719773Z",
     "iopub.status.idle": "2024-02-23T15:10:16.728591Z",
     "shell.execute_reply": "2024-02-23T15:10:16.727461Z",
     "shell.execute_reply.started": "2024-02-23T15:10:16.720427Z"
    }
   },
   "outputs": [
    {
     "data": {
      "text/plain": [
       "Index(['N_SOIL', 'P_SOIL', 'K_SOIL', 'TEMPERATURE', 'HUMIDITY', 'ph',\n",
       "       'RAINFALL', 'STATE', 'CROP_PRICE', 'CROP'],\n",
       "      dtype='object')"
      ]
     },
     "execution_count": 9,
     "metadata": {},
     "output_type": "execute_result"
    }
   ],
   "source": [
    "df.columns"
   ]
  },
  {
   "cell_type": "code",
   "execution_count": 10,
   "metadata": {
    "execution": {
     "iopub.execute_input": "2024-02-23T15:10:17.809351Z",
     "iopub.status.busy": "2024-02-23T15:10:17.808953Z",
     "iopub.status.idle": "2024-02-23T15:10:17.817325Z",
     "shell.execute_reply": "2024-02-23T15:10:17.816020Z",
     "shell.execute_reply.started": "2024-02-23T15:10:17.809318Z"
    }
   },
   "outputs": [
    {
     "data": {
      "text/plain": [
       "array(['Rice', 'Maize', 'ChickPea', 'KidneyBeans', 'PigeonPeas',\n",
       "       'MothBeans', 'MungBean', 'Blackgram', 'Lentil', 'Pomegranate',\n",
       "       'Banana', 'Mango', 'Grapes', 'Watermelon', 'Muskmelon', 'Apple',\n",
       "       'Orange', 'Papaya', 'Coconut', 'Cotton', 'Jute', 'Coffee'],\n",
       "      dtype=object)"
      ]
     },
     "execution_count": 10,
     "metadata": {},
     "output_type": "execute_result"
    }
   ],
   "source": [
    "df['CROP'].unique()"
   ]
  },
  {
   "cell_type": "code",
   "execution_count": 11,
   "metadata": {
    "execution": {
     "iopub.execute_input": "2024-02-23T15:10:19.308939Z",
     "iopub.status.busy": "2024-02-23T15:10:19.308123Z",
     "iopub.status.idle": "2024-02-23T15:10:19.317123Z",
     "shell.execute_reply": "2024-02-23T15:10:19.316014Z",
     "shell.execute_reply.started": "2024-02-23T15:10:19.308876Z"
    }
   },
   "outputs": [
    {
     "data": {
      "text/plain": [
       "N_SOIL           int64\n",
       "P_SOIL           int64\n",
       "K_SOIL           int64\n",
       "TEMPERATURE    float64\n",
       "HUMIDITY       float64\n",
       "ph             float64\n",
       "RAINFALL       float64\n",
       "STATE           object\n",
       "CROP_PRICE       int64\n",
       "CROP            object\n",
       "dtype: object"
      ]
     },
     "execution_count": 11,
     "metadata": {},
     "output_type": "execute_result"
    }
   ],
   "source": [
    "df.dtypes"
   ]
  },
  {
   "cell_type": "code",
   "execution_count": 52,
   "metadata": {
    "execution": {
     "iopub.execute_input": "2024-02-23T15:10:40.065766Z",
     "iopub.status.busy": "2024-02-23T15:10:40.065333Z",
     "iopub.status.idle": "2024-02-23T15:10:40.079021Z",
     "shell.execute_reply": "2024-02-23T15:10:40.077475Z",
     "shell.execute_reply.started": "2024-02-23T15:10:40.065726Z"
    }
   },
   "outputs": [],
   "source": [
    "state_mapping = {\n",
    "    'Andaman and Nicobar': 1,\n",
    "    'Andhra Pradesh': 2,\n",
    "    'Assam': 3,\n",
    "    'Chattisgarh': 4,\n",
    "    'Goa': 5,\n",
    "    'Gujarat': 6,\n",
    "    'Haryana': 7,\n",
    "    'Himachal Pradesh': 8,\n",
    "    'Jammu and Kashmir': 9,\n",
    "    'Karnataka': 10,\n",
    "    'Kerala': 11,\n",
    "    'Madhya Pradesh': 12,\n",
    "    'Maharashtra': 13,\n",
    "    'Manipur': 14,\n",
    "    'Meghalaya': 15,\n",
    "    'Nagaland': 16,\n",
    "    'Odisha': 17,\n",
    "    'Pondicherry': 18,\n",
    "    'Punjab': 19,\n",
    "    'Rajasthan': 20,\n",
    "    'Tamil Nadu': 21,\n",
    "    'Telangana': 22,\n",
    "    'Tripura': 23,\n",
    "    'Uttar Pradesh': 24,\n",
    "    'Uttrakhand': 25,\n",
    "    'West Bengal': 26\n",
    "}\n",
    "\n",
    "\n",
    "df['STATE'] = df['STATE'].map(state_mapping)"
   ]
  },
  {
   "cell_type": "code",
   "execution_count": 12,
   "metadata": {
    "execution": {
     "iopub.execute_input": "2024-02-23T15:07:51.832009Z",
     "iopub.status.busy": "2024-02-23T15:07:51.831554Z",
     "iopub.status.idle": "2024-02-23T15:07:52.334148Z",
     "shell.execute_reply": "2024-02-23T15:07:52.332826Z",
     "shell.execute_reply.started": "2024-02-23T15:07:51.831970Z"
    }
   },
   "outputs": [
    {
     "ename": "NameError",
     "evalue": "name 'sns' is not defined",
     "output_type": "error",
     "traceback": [
      "\u001b[0;31m---------------------------------------------------------------------------\u001b[0m",
      "\u001b[0;31mNameError\u001b[0m                                 Traceback (most recent call last)",
      "Cell \u001b[0;32mIn[12], line 1\u001b[0m\n\u001b[0;32m----> 1\u001b[0m sns\u001b[38;5;241m.\u001b[39mheatmap(df\u001b[38;5;241m.\u001b[39mcorr(),annot\u001b[38;5;241m=\u001b[39m\u001b[38;5;28;01mTrue\u001b[39;00m)\n",
      "\u001b[0;31mNameError\u001b[0m: name 'sns' is not defined"
     ]
    }
   ],
   "source": [
    "sns.heatmap(df.corr(),annot=True)"
   ]
  },
  {
   "cell_type": "markdown",
   "metadata": {},
   "source": [
    "### Seperating features and target label"
   ]
  },
  {
   "cell_type": "code",
   "execution_count": 53,
   "metadata": {
    "execution": {
     "iopub.execute_input": "2024-02-23T15:10:45.824466Z",
     "iopub.status.busy": "2024-02-23T15:10:45.824058Z",
     "iopub.status.idle": "2024-02-23T15:10:45.834268Z",
     "shell.execute_reply": "2024-02-23T15:10:45.832683Z",
     "shell.execute_reply.started": "2024-02-23T15:10:45.824432Z"
    }
   },
   "outputs": [],
   "source": [
    "features = df[['N_SOIL', 'P_SOIL', 'K_SOIL', 'TEMPERATURE', 'HUMIDITY', 'ph',\n",
    "       'RAINFALL', 'STATE', 'CROP_PRICE']]\n",
    "target = df['CROP']\n",
    "labels = df['CROP']"
   ]
  },
  {
   "cell_type": "code",
   "execution_count": 54,
   "metadata": {
    "execution": {
     "iopub.execute_input": "2024-02-23T15:10:48.472278Z",
     "iopub.status.busy": "2024-02-23T15:10:48.471861Z",
     "iopub.status.idle": "2024-02-23T15:10:48.477867Z",
     "shell.execute_reply": "2024-02-23T15:10:48.476381Z",
     "shell.execute_reply.started": "2024-02-23T15:10:48.472243Z"
    }
   },
   "outputs": [],
   "source": [
    "# Initializing empty lists to append all model's name and corresponding name\n",
    "acc = []\n",
    "model = []"
   ]
  },
  {
   "cell_type": "code",
   "execution_count": 55,
   "metadata": {
    "execution": {
     "iopub.execute_input": "2024-02-23T15:10:50.774495Z",
     "iopub.status.busy": "2024-02-23T15:10:50.773710Z",
     "iopub.status.idle": "2024-02-23T15:10:50.786971Z",
     "shell.execute_reply": "2024-02-23T15:10:50.785246Z",
     "shell.execute_reply.started": "2024-02-23T15:10:50.774447Z"
    }
   },
   "outputs": [
    {
     "data": {
      "text/plain": [
       "N_SOIL         0\n",
       "P_SOIL         0\n",
       "K_SOIL         0\n",
       "TEMPERATURE    0\n",
       "HUMIDITY       0\n",
       "ph             0\n",
       "RAINFALL       0\n",
       "STATE          0\n",
       "CROP_PRICE     0\n",
       "CROP           0\n",
       "dtype: int64"
      ]
     },
     "execution_count": 55,
     "metadata": {},
     "output_type": "execute_result"
    }
   ],
   "source": [
    "df.isna().sum()"
   ]
  },
  {
   "cell_type": "code",
   "execution_count": 56,
   "metadata": {
    "execution": {
     "iopub.execute_input": "2024-02-23T15:10:56.431413Z",
     "iopub.status.busy": "2024-02-23T15:10:56.430957Z",
     "iopub.status.idle": "2024-02-23T15:10:56.441183Z",
     "shell.execute_reply": "2024-02-23T15:10:56.439645Z",
     "shell.execute_reply.started": "2024-02-23T15:10:56.431372Z"
    }
   },
   "outputs": [],
   "source": [
    "# Splitting into train and test data\n",
    "\n",
    "from sklearn.model_selection import train_test_split\n",
    "Xtrain, Xtest, Ytrain, Ytest = train_test_split(features,target,test_size = 0.25,random_state =2)"
   ]
  },
  {
   "cell_type": "markdown",
   "metadata": {},
   "source": [
    "# Decision Tree"
   ]
  },
  {
   "cell_type": "code",
   "execution_count": 57,
   "metadata": {
    "execution": {
     "iopub.execute_input": "2024-02-23T15:12:13.515217Z",
     "iopub.status.busy": "2024-02-23T15:12:13.514802Z",
     "iopub.status.idle": "2024-02-23T15:12:13.590564Z",
     "shell.execute_reply": "2024-02-23T15:12:13.589464Z",
     "shell.execute_reply.started": "2024-02-23T15:12:13.515182Z"
    }
   },
   "outputs": [
    {
     "name": "stdout",
     "output_type": "stream",
     "text": [
      "DecisionTrees's Accuracy is:  97.63636363636363\n",
      "              precision    recall  f1-score   support\n",
      "\n",
      "       Apple       1.00      1.00      1.00        24\n",
      "      Banana       1.00      1.00      1.00        19\n",
      "   Blackgram       0.91      1.00      0.95        20\n",
      "    ChickPea       1.00      1.00      1.00        26\n",
      "     Coconut       1.00      1.00      1.00        27\n",
      "      Coffee       1.00      1.00      1.00        26\n",
      "      Cotton       1.00      1.00      1.00        24\n",
      "      Grapes       1.00      1.00      1.00        23\n",
      "        Jute       1.00      1.00      1.00        31\n",
      " KidneyBeans       1.00      1.00      1.00        25\n",
      "      Lentil       1.00      1.00      1.00        26\n",
      "       Maize       0.93      1.00      0.96        26\n",
      "       Mango       1.00      0.94      0.97        31\n",
      "   MothBeans       1.00      0.64      0.78        25\n",
      "    MungBean       1.00      1.00      1.00        29\n",
      "   Muskmelon       1.00      1.00      1.00        26\n",
      "      Orange       1.00      1.00      1.00        34\n",
      "      Papaya       1.00      1.00      1.00        23\n",
      "  PigeonPeas       0.71      0.92      0.80        24\n",
      " Pomegranate       1.00      1.00      1.00        19\n",
      "        Rice       1.00      1.00      1.00        25\n",
      "  Watermelon       1.00      1.00      1.00        17\n",
      "\n",
      "    accuracy                           0.98       550\n",
      "   macro avg       0.98      0.98      0.98       550\n",
      "weighted avg       0.98      0.98      0.98       550\n",
      "\n"
     ]
    }
   ],
   "source": [
    "from sklearn.tree import DecisionTreeClassifier\n",
    "\n",
    "DecisionTree = DecisionTreeClassifier(criterion=\"entropy\",random_state=2,max_depth=5)\n",
    "\n",
    "DecisionTree.fit(Xtrain,Ytrain)\n",
    "\n",
    "predicted_values = DecisionTree.predict(Xtest)\n",
    "x = metrics.accuracy_score(Ytest, predicted_values)\n",
    "acc.append(x)\n",
    "model.append('Decision Tree')\n",
    "print(\"DecisionTrees's Accuracy is: \", x*100)\n",
    "\n",
    "print(classification_report(Ytest,predicted_values))"
   ]
  },
  {
   "cell_type": "code",
   "execution_count": 58,
   "metadata": {
    "execution": {
     "iopub.execute_input": "2024-02-23T15:12:25.386730Z",
     "iopub.status.busy": "2024-02-23T15:12:25.386337Z",
     "iopub.status.idle": "2024-02-23T15:12:25.392218Z",
     "shell.execute_reply": "2024-02-23T15:12:25.391087Z",
     "shell.execute_reply.started": "2024-02-23T15:12:25.386697Z"
    }
   },
   "outputs": [],
   "source": [
    "from sklearn.model_selection import cross_val_score"
   ]
  },
  {
   "cell_type": "code",
   "execution_count": 59,
   "metadata": {
    "execution": {
     "iopub.execute_input": "2024-02-23T15:12:51.950254Z",
     "iopub.status.busy": "2024-02-23T15:12:51.949797Z",
     "iopub.status.idle": "2024-02-23T15:12:52.134674Z",
     "shell.execute_reply": "2024-02-23T15:12:52.133541Z",
     "shell.execute_reply.started": "2024-02-23T15:12:51.950218Z"
    }
   },
   "outputs": [],
   "source": [
    "# Cross validation score (Decision Tree)\n",
    "score = cross_val_score(DecisionTree, features, target,cv=5)"
   ]
  },
  {
   "cell_type": "code",
   "execution_count": 60,
   "metadata": {
    "execution": {
     "iopub.execute_input": "2024-02-23T15:12:54.877798Z",
     "iopub.status.busy": "2024-02-23T15:12:54.877399Z",
     "iopub.status.idle": "2024-02-23T15:12:54.885510Z",
     "shell.execute_reply": "2024-02-23T15:12:54.884034Z",
     "shell.execute_reply.started": "2024-02-23T15:12:54.877763Z"
    }
   },
   "outputs": [
    {
     "data": {
      "text/plain": [
       "array([0.93863636, 1.        , 0.99772727, 1.        , 0.88181818])"
      ]
     },
     "execution_count": 60,
     "metadata": {},
     "output_type": "execute_result"
    }
   ],
   "source": [
    "score"
   ]
  },
  {
   "cell_type": "markdown",
   "metadata": {},
   "source": [
    "### Saving trained Decision Tree model"
   ]
  },
  {
   "cell_type": "code",
   "execution_count": 61,
   "metadata": {
    "execution": {
     "iopub.execute_input": "2024-02-23T15:13:00.668047Z",
     "iopub.status.busy": "2024-02-23T15:13:00.667620Z",
     "iopub.status.idle": "2024-02-23T15:13:00.674716Z",
     "shell.execute_reply": "2024-02-23T15:13:00.673801Z",
     "shell.execute_reply.started": "2024-02-23T15:13:00.668009Z"
    }
   },
   "outputs": [],
   "source": [
    "import pickle\n",
    "# Dump the trained Naive Bayes classifier with Pickle\n",
    "DT_pkl_filename = 'DecisionTree.pkl'\n",
    "# Open the file to save as pkl file\n",
    "DT_Model_pkl = open(DT_pkl_filename, 'wb')\n",
    "pickle.dump(DecisionTree, DT_Model_pkl)\n",
    "# Close the pickle instances\n",
    "DT_Model_pkl.close()"
   ]
  },
  {
   "cell_type": "markdown",
   "metadata": {},
   "source": [
    "# Guassian Naive Bayes"
   ]
  },
  {
   "cell_type": "code",
   "execution_count": 62,
   "metadata": {
    "execution": {
     "iopub.execute_input": "2024-02-23T15:13:05.350501Z",
     "iopub.status.busy": "2024-02-23T15:13:05.350084Z",
     "iopub.status.idle": "2024-02-23T15:13:05.401122Z",
     "shell.execute_reply": "2024-02-23T15:13:05.400001Z",
     "shell.execute_reply.started": "2024-02-23T15:13:05.350462Z"
    }
   },
   "outputs": [
    {
     "name": "stdout",
     "output_type": "stream",
     "text": [
      "Naive Bayes's Accuracy is:  1.0\n",
      "              precision    recall  f1-score   support\n",
      "\n",
      "       Apple       1.00      1.00      1.00        24\n",
      "      Banana       1.00      1.00      1.00        19\n",
      "   Blackgram       1.00      1.00      1.00        20\n",
      "    ChickPea       1.00      1.00      1.00        26\n",
      "     Coconut       1.00      1.00      1.00        27\n",
      "      Coffee       1.00      1.00      1.00        26\n",
      "      Cotton       1.00      1.00      1.00        24\n",
      "      Grapes       1.00      1.00      1.00        23\n",
      "        Jute       1.00      1.00      1.00        31\n",
      " KidneyBeans       1.00      1.00      1.00        25\n",
      "      Lentil       1.00      1.00      1.00        26\n",
      "       Maize       1.00      1.00      1.00        26\n",
      "       Mango       1.00      1.00      1.00        31\n",
      "   MothBeans       1.00      1.00      1.00        25\n",
      "    MungBean       1.00      1.00      1.00        29\n",
      "   Muskmelon       1.00      1.00      1.00        26\n",
      "      Orange       1.00      1.00      1.00        34\n",
      "      Papaya       1.00      1.00      1.00        23\n",
      "  PigeonPeas       1.00      1.00      1.00        24\n",
      " Pomegranate       1.00      1.00      1.00        19\n",
      "        Rice       1.00      1.00      1.00        25\n",
      "  Watermelon       1.00      1.00      1.00        17\n",
      "\n",
      "    accuracy                           1.00       550\n",
      "   macro avg       1.00      1.00      1.00       550\n",
      "weighted avg       1.00      1.00      1.00       550\n",
      "\n"
     ]
    }
   ],
   "source": [
    "from sklearn.naive_bayes import GaussianNB\n",
    "\n",
    "NaiveBayes = GaussianNB()\n",
    "\n",
    "NaiveBayes.fit(Xtrain,Ytrain)\n",
    "\n",
    "predicted_values = NaiveBayes.predict(Xtest)\n",
    "x = metrics.accuracy_score(Ytest, predicted_values)\n",
    "acc.append(x)\n",
    "model.append('Naive Bayes')\n",
    "print(\"Naive Bayes's Accuracy is: \", x)\n",
    "\n",
    "print(classification_report(Ytest,predicted_values))"
   ]
  },
  {
   "cell_type": "code",
   "execution_count": 63,
   "metadata": {
    "execution": {
     "iopub.execute_input": "2024-02-23T15:13:59.598292Z",
     "iopub.status.busy": "2024-02-23T15:13:59.597819Z",
     "iopub.status.idle": "2024-02-23T15:13:59.692162Z",
     "shell.execute_reply": "2024-02-23T15:13:59.691120Z",
     "shell.execute_reply.started": "2024-02-23T15:13:59.598230Z"
    }
   },
   "outputs": [
    {
     "data": {
      "text/plain": [
       "array([0.99545455, 1.        , 1.        , 1.        , 0.92954545])"
      ]
     },
     "execution_count": 63,
     "metadata": {},
     "output_type": "execute_result"
    }
   ],
   "source": [
    "# Cross validation score (NaiveBayes)\n",
    "score = cross_val_score(NaiveBayes,features,target,cv=5)\n",
    "score"
   ]
  },
  {
   "cell_type": "markdown",
   "metadata": {},
   "source": [
    "### Saving trained Guassian Naive Bayes model"
   ]
  },
  {
   "cell_type": "code",
   "execution_count": 64,
   "metadata": {
    "execution": {
     "iopub.execute_input": "2024-02-23T15:14:15.129452Z",
     "iopub.status.busy": "2024-02-23T15:14:15.129032Z",
     "iopub.status.idle": "2024-02-23T15:14:15.136521Z",
     "shell.execute_reply": "2024-02-23T15:14:15.135111Z",
     "shell.execute_reply.started": "2024-02-23T15:14:15.129413Z"
    }
   },
   "outputs": [],
   "source": [
    "import pickle\n",
    "# Dump the trained Naive Bayes classifier with Pickle\n",
    "NB_pkl_filename = 'NBClassifier.pkl'\n",
    "# Open the file to save as pkl file\n",
    "NB_Model_pkl = open(NB_pkl_filename, 'wb')\n",
    "pickle.dump(NaiveBayes, NB_Model_pkl)\n",
    "# Close the pickle instances\n",
    "NB_Model_pkl.close()"
   ]
  },
  {
   "cell_type": "markdown",
   "metadata": {},
   "source": [
    "# Support Vector Machine (SVM)"
   ]
  },
  {
   "cell_type": "code",
   "execution_count": 65,
   "metadata": {
    "execution": {
     "iopub.execute_input": "2024-02-23T15:14:19.403627Z",
     "iopub.status.busy": "2024-02-23T15:14:19.403184Z",
     "iopub.status.idle": "2024-02-23T15:14:19.761793Z",
     "shell.execute_reply": "2024-02-23T15:14:19.760637Z",
     "shell.execute_reply.started": "2024-02-23T15:14:19.403588Z"
    }
   },
   "outputs": [
    {
     "name": "stdout",
     "output_type": "stream",
     "text": [
      "SVM's Accuracy is:  0.038181818181818185\n",
      "              precision    recall  f1-score   support\n",
      "\n",
      "       Apple       0.00      0.00      0.00        24\n",
      "      Banana       0.00      0.00      0.00        19\n",
      "   Blackgram       1.00      0.05      0.10        20\n",
      "    ChickPea       0.00      0.00      0.00        26\n",
      "     Coconut       0.00      0.00      0.00        27\n",
      "      Coffee       0.00      0.00      0.00        26\n",
      "      Cotton       0.00      0.00      0.00        24\n",
      "      Grapes       0.00      0.00      0.00        23\n",
      "        Jute       1.00      0.03      0.06        31\n",
      " KidneyBeans       0.00      0.00      0.00        25\n",
      "      Lentil       0.00      0.00      0.00        26\n",
      "       Maize       0.00      0.00      0.00        26\n",
      "       Mango       0.00      0.00      0.00        31\n",
      "   MothBeans       0.00      0.00      0.00        25\n",
      "    MungBean       1.00      0.03      0.07        29\n",
      "   Muskmelon       0.00      0.00      0.00        26\n",
      "      Orange       0.00      0.00      0.00        34\n",
      "      Papaya       0.00      0.00      0.00        23\n",
      "  PigeonPeas       0.00      0.00      0.00        24\n",
      " Pomegranate       1.00      0.05      0.10        19\n",
      "        Rice       0.00      0.00      0.00        25\n",
      "  Watermelon       0.03      1.00      0.06        17\n",
      "\n",
      "    accuracy                           0.04       550\n",
      "   macro avg       0.18      0.05      0.02       550\n",
      "weighted avg       0.18      0.04      0.02       550\n",
      "\n"
     ]
    }
   ],
   "source": [
    "from sklearn.svm import SVC\n",
    "\n",
    "SVM = SVC(gamma='auto')\n",
    "\n",
    "SVM.fit(Xtrain,Ytrain)\n",
    "\n",
    "predicted_values = SVM.predict(Xtest)\n",
    "\n",
    "x = metrics.accuracy_score(Ytest, predicted_values)\n",
    "acc.append(x)\n",
    "model.append('SVM')\n",
    "print(\"SVM's Accuracy is: \", x)\n",
    "\n",
    "print(classification_report(Ytest,predicted_values))"
   ]
  },
  {
   "cell_type": "code",
   "execution_count": 66,
   "metadata": {
    "execution": {
     "iopub.execute_input": "2024-02-23T15:14:31.076591Z",
     "iopub.status.busy": "2024-02-23T15:14:31.076184Z",
     "iopub.status.idle": "2024-02-23T15:14:32.518731Z",
     "shell.execute_reply": "2024-02-23T15:14:32.517650Z",
     "shell.execute_reply.started": "2024-02-23T15:14:31.076558Z"
    }
   },
   "outputs": [
    {
     "data": {
      "text/plain": [
       "array([0.07727273, 0.08636364, 0.09772727, 0.08863636, 0.06818182])"
      ]
     },
     "execution_count": 66,
     "metadata": {},
     "output_type": "execute_result"
    }
   ],
   "source": [
    "# Cross validation score (SVM)\n",
    "score = cross_val_score(SVM,features,target,cv=5)\n",
    "score"
   ]
  },
  {
   "cell_type": "markdown",
   "metadata": {},
   "source": [
    "# Logistic Regression"
   ]
  },
  {
   "cell_type": "code",
   "execution_count": 67,
   "metadata": {
    "execution": {
     "iopub.execute_input": "2024-02-23T15:14:38.906300Z",
     "iopub.status.busy": "2024-02-23T15:14:38.905854Z",
     "iopub.status.idle": "2024-02-23T15:14:39.270954Z",
     "shell.execute_reply": "2024-02-23T15:14:39.269994Z",
     "shell.execute_reply.started": "2024-02-23T15:14:38.906262Z"
    }
   },
   "outputs": [
    {
     "name": "stdout",
     "output_type": "stream",
     "text": [
      "Logistic Regression's Accuracy is:  0.6945454545454546\n",
      "              precision    recall  f1-score   support\n",
      "\n",
      "       Apple       0.65      0.92      0.76        24\n",
      "      Banana       0.83      1.00      0.90        19\n",
      "   Blackgram       0.29      0.75      0.42        20\n",
      "    ChickPea       1.00      0.62      0.76        26\n",
      "     Coconut       0.50      0.30      0.37        27\n",
      "      Coffee       0.77      0.92      0.84        26\n",
      "      Cotton       0.85      0.92      0.88        24\n",
      "      Grapes       0.91      0.91      0.91        23\n",
      "        Jute       0.85      0.35      0.50        31\n",
      " KidneyBeans       0.91      0.84      0.87        25\n",
      "      Lentil       0.50      0.31      0.38        26\n",
      "       Maize       0.96      0.88      0.92        26\n",
      "       Mango       0.50      0.74      0.60        31\n",
      "   MothBeans       0.20      0.04      0.07        25\n",
      "    MungBean       0.72      0.62      0.67        29\n",
      "   Muskmelon       1.00      1.00      1.00        26\n",
      "      Orange       0.56      0.85      0.67        34\n",
      "      Papaya       0.36      0.22      0.27        23\n",
      "  PigeonPeas       0.73      0.79      0.76        24\n",
      " Pomegranate       0.78      0.74      0.76        19\n",
      "        Rice       0.83      0.80      0.82        25\n",
      "  Watermelon       0.94      1.00      0.97        17\n",
      "\n",
      "    accuracy                           0.69       550\n",
      "   macro avg       0.71      0.71      0.69       550\n",
      "weighted avg       0.71      0.69      0.68       550\n",
      "\n"
     ]
    }
   ],
   "source": [
    "from sklearn.linear_model import LogisticRegression\n",
    "\n",
    "LogReg = LogisticRegression(random_state=2)\n",
    "\n",
    "LogReg.fit(Xtrain,Ytrain)\n",
    "\n",
    "predicted_values = LogReg.predict(Xtest)\n",
    "\n",
    "x = metrics.accuracy_score(Ytest, predicted_values)\n",
    "acc.append(x)\n",
    "model.append('Logistic Regression')\n",
    "print(\"Logistic Regression's Accuracy is: \", x)\n",
    "\n",
    "print(classification_report(Ytest,predicted_values))"
   ]
  },
  {
   "cell_type": "code",
   "execution_count": 68,
   "metadata": {
    "execution": {
     "iopub.execute_input": "2024-02-23T15:14:43.761137Z",
     "iopub.status.busy": "2024-02-23T15:14:43.760544Z",
     "iopub.status.idle": "2024-02-23T15:14:45.435237Z",
     "shell.execute_reply": "2024-02-23T15:14:45.434137Z",
     "shell.execute_reply.started": "2024-02-23T15:14:43.761092Z"
    }
   },
   "outputs": [
    {
     "data": {
      "text/plain": [
       "array([0.73636364, 0.69090909, 0.66590909, 0.68636364, 0.61818182])"
      ]
     },
     "execution_count": 68,
     "metadata": {},
     "output_type": "execute_result"
    }
   ],
   "source": [
    "# Cross validation score (Logistic Regression)\n",
    "score = cross_val_score(LogReg,features,target,cv=5)\n",
    "score"
   ]
  },
  {
   "cell_type": "markdown",
   "metadata": {},
   "source": [
    "### Saving trained Logistic Regression model"
   ]
  },
  {
   "cell_type": "code",
   "execution_count": 70,
   "metadata": {
    "execution": {
     "iopub.execute_input": "2024-02-23T15:15:13.023503Z",
     "iopub.status.busy": "2024-02-23T15:15:13.023074Z",
     "iopub.status.idle": "2024-02-23T15:15:13.030139Z",
     "shell.execute_reply": "2024-02-23T15:15:13.029034Z",
     "shell.execute_reply.started": "2024-02-23T15:15:13.023464Z"
    }
   },
   "outputs": [],
   "source": [
    "import pickle\n",
    "# Dump the trained Naive Bayes classifier with Pickle\n",
    "LR_pkl_filename = 'LogisticRegression.pkl'\n",
    "# Open the file to save as pkl file\n",
    "LR_Model_pkl = open(DT_pkl_filename, 'wb')\n",
    "pickle.dump(LogReg, LR_Model_pkl)\n",
    "# Close the pickle instances\n",
    "LR_Model_pkl.close()"
   ]
  },
  {
   "cell_type": "markdown",
   "metadata": {},
   "source": [
    "# Random Forest"
   ]
  },
  {
   "cell_type": "code",
   "execution_count": 71,
   "metadata": {
    "execution": {
     "iopub.execute_input": "2024-02-23T15:15:17.671502Z",
     "iopub.status.busy": "2024-02-23T15:15:17.671033Z",
     "iopub.status.idle": "2024-02-23T15:15:17.861336Z",
     "shell.execute_reply": "2024-02-23T15:15:17.860118Z",
     "shell.execute_reply.started": "2024-02-23T15:15:17.671463Z"
    }
   },
   "outputs": [
    {
     "name": "stdout",
     "output_type": "stream",
     "text": [
      "RF's Accuracy is:  1.0\n",
      "              precision    recall  f1-score   support\n",
      "\n",
      "       Apple       1.00      1.00      1.00        24\n",
      "      Banana       1.00      1.00      1.00        19\n",
      "   Blackgram       1.00      1.00      1.00        20\n",
      "    ChickPea       1.00      1.00      1.00        26\n",
      "     Coconut       1.00      1.00      1.00        27\n",
      "      Coffee       1.00      1.00      1.00        26\n",
      "      Cotton       1.00      1.00      1.00        24\n",
      "      Grapes       1.00      1.00      1.00        23\n",
      "        Jute       1.00      1.00      1.00        31\n",
      " KidneyBeans       1.00      1.00      1.00        25\n",
      "      Lentil       1.00      1.00      1.00        26\n",
      "       Maize       1.00      1.00      1.00        26\n",
      "       Mango       1.00      1.00      1.00        31\n",
      "   MothBeans       1.00      1.00      1.00        25\n",
      "    MungBean       1.00      1.00      1.00        29\n",
      "   Muskmelon       1.00      1.00      1.00        26\n",
      "      Orange       1.00      1.00      1.00        34\n",
      "      Papaya       1.00      1.00      1.00        23\n",
      "  PigeonPeas       1.00      1.00      1.00        24\n",
      " Pomegranate       1.00      1.00      1.00        19\n",
      "        Rice       1.00      1.00      1.00        25\n",
      "  Watermelon       1.00      1.00      1.00        17\n",
      "\n",
      "    accuracy                           1.00       550\n",
      "   macro avg       1.00      1.00      1.00       550\n",
      "weighted avg       1.00      1.00      1.00       550\n",
      "\n"
     ]
    }
   ],
   "source": [
    "from sklearn.ensemble import RandomForestClassifier\n",
    "\n",
    "RF = RandomForestClassifier(n_estimators=20, random_state=0)\n",
    "RF.fit(Xtrain,Ytrain)\n",
    "\n",
    "predicted_values = RF.predict(Xtest)\n",
    "\n",
    "x = metrics.accuracy_score(Ytest, predicted_values)\n",
    "acc.append(x)\n",
    "model.append('RF')\n",
    "print(\"RF's Accuracy is: \", x)\n",
    "\n",
    "print(classification_report(Ytest,predicted_values))"
   ]
  },
  {
   "cell_type": "code",
   "execution_count": 72,
   "metadata": {
    "execution": {
     "iopub.execute_input": "2024-02-23T15:15:22.351478Z",
     "iopub.status.busy": "2024-02-23T15:15:22.350991Z",
     "iopub.status.idle": "2024-02-23T15:15:22.932014Z",
     "shell.execute_reply": "2024-02-23T15:15:22.930998Z",
     "shell.execute_reply.started": "2024-02-23T15:15:22.351436Z"
    }
   },
   "outputs": [
    {
     "data": {
      "text/plain": [
       "array([1.        , 1.        , 0.99772727, 1.        , 1.        ])"
      ]
     },
     "execution_count": 72,
     "metadata": {},
     "output_type": "execute_result"
    }
   ],
   "source": [
    "# Cross validation score (Random Forest)\n",
    "score = cross_val_score(RF,features,target,cv=5)\n",
    "score"
   ]
  },
  {
   "cell_type": "markdown",
   "metadata": {},
   "source": [
    "### Saving trained Random Forest model"
   ]
  },
  {
   "cell_type": "code",
   "execution_count": 73,
   "metadata": {
    "execution": {
     "iopub.execute_input": "2024-02-23T15:15:27.586306Z",
     "iopub.status.busy": "2024-02-23T15:15:27.585918Z",
     "iopub.status.idle": "2024-02-23T15:15:27.595634Z",
     "shell.execute_reply": "2024-02-23T15:15:27.594404Z",
     "shell.execute_reply.started": "2024-02-23T15:15:27.586274Z"
    }
   },
   "outputs": [],
   "source": [
    "import pickle\n",
    "# Dump the trained Naive Bayes classifier with Pickle\n",
    "RF_pkl_filename = 'RandomForest.pkl'\n",
    "# Open the file to save as pkl file\n",
    "RF_Model_pkl = open(RF_pkl_filename, 'wb')\n",
    "pickle.dump(RF, RF_Model_pkl)\n",
    "# Close the pickle instances\n",
    "RF_Model_pkl.close()"
   ]
  },
  {
   "cell_type": "markdown",
   "metadata": {},
   "source": [
    "# XGBoost"
   ]
  },
  {
   "cell_type": "code",
   "execution_count": 74,
   "metadata": {
    "execution": {
     "iopub.execute_input": "2024-02-23T15:15:34.553458Z",
     "iopub.status.busy": "2024-02-23T15:15:34.553018Z",
     "iopub.status.idle": "2024-02-23T15:15:36.244983Z",
     "shell.execute_reply": "2024-02-23T15:15:36.244028Z",
     "shell.execute_reply.started": "2024-02-23T15:15:34.553418Z"
    },
    "scrolled": true
   },
   "outputs": [
    {
     "name": "stdout",
     "output_type": "stream",
     "text": [
      "XGBoost's Accuracy is:  0.9981818181818182\n",
      "              precision    recall  f1-score   support\n",
      "\n",
      "       Apple       1.00      1.00      1.00        24\n",
      "      Banana       1.00      1.00      1.00        19\n",
      "   Blackgram       1.00      1.00      1.00        20\n",
      "    ChickPea       1.00      1.00      1.00        26\n",
      "     Coconut       1.00      1.00      1.00        27\n",
      "      Coffee       0.96      1.00      0.98        26\n",
      "      Cotton       1.00      1.00      1.00        24\n",
      "      Grapes       1.00      1.00      1.00        23\n",
      "        Jute       1.00      0.97      0.98        31\n",
      " KidneyBeans       1.00      1.00      1.00        25\n",
      "      Lentil       1.00      1.00      1.00        26\n",
      "       Maize       1.00      1.00      1.00        26\n",
      "       Mango       1.00      1.00      1.00        31\n",
      "   MothBeans       1.00      1.00      1.00        25\n",
      "    MungBean       1.00      1.00      1.00        29\n",
      "   Muskmelon       1.00      1.00      1.00        26\n",
      "      Orange       1.00      1.00      1.00        34\n",
      "      Papaya       1.00      1.00      1.00        23\n",
      "  PigeonPeas       1.00      1.00      1.00        24\n",
      " Pomegranate       1.00      1.00      1.00        19\n",
      "        Rice       1.00      1.00      1.00        25\n",
      "  Watermelon       1.00      1.00      1.00        17\n",
      "\n",
      "    accuracy                           1.00       550\n",
      "   macro avg       1.00      1.00      1.00       550\n",
      "weighted avg       1.00      1.00      1.00       550\n",
      "\n"
     ]
    }
   ],
   "source": [
    "import xgboost as xgb\n",
    "XB = xgb.XGBClassifier()\n",
    "XB.fit(Xtrain,Ytrain)\n",
    "\n",
    "predicted_values = XB.predict(Xtest)\n",
    "\n",
    "x = metrics.accuracy_score(Ytest, predicted_values)\n",
    "acc.append(x)\n",
    "model.append('XGBoost')\n",
    "print(\"XGBoost's Accuracy is: \", x)\n",
    "\n",
    "print(classification_report(Ytest,predicted_values))"
   ]
  },
  {
   "cell_type": "code",
   "execution_count": 75,
   "metadata": {
    "execution": {
     "iopub.execute_input": "2024-02-23T15:15:45.026033Z",
     "iopub.status.busy": "2024-02-23T15:15:45.025577Z",
     "iopub.status.idle": "2024-02-23T15:15:47.817538Z",
     "shell.execute_reply": "2024-02-23T15:15:47.816589Z",
     "shell.execute_reply.started": "2024-02-23T15:15:45.025996Z"
    }
   },
   "outputs": [
    {
     "data": {
      "text/plain": [
       "array([0.99772727, 1.        , 0.99772727, 0.99772727, 0.95      ])"
      ]
     },
     "execution_count": 75,
     "metadata": {},
     "output_type": "execute_result"
    }
   ],
   "source": [
    "# Cross validation score (XGBoost)\n",
    "score = cross_val_score(XB,features,target,cv=5)\n",
    "score"
   ]
  },
  {
   "cell_type": "markdown",
   "metadata": {},
   "source": [
    "### Saving trained XGBoost model"
   ]
  },
  {
   "cell_type": "code",
   "execution_count": 76,
   "metadata": {
    "execution": {
     "iopub.execute_input": "2024-02-23T15:15:52.692358Z",
     "iopub.status.busy": "2024-02-23T15:15:52.691764Z",
     "iopub.status.idle": "2024-02-23T15:15:52.701280Z",
     "shell.execute_reply": "2024-02-23T15:15:52.700204Z",
     "shell.execute_reply.started": "2024-02-23T15:15:52.692305Z"
    }
   },
   "outputs": [],
   "source": [
    "import pickle\n",
    "# Dump the trained Naive Bayes classifier with Pickle\n",
    "XB_pkl_filename = 'XGBoost.pkl'\n",
    "# Open the file to save as pkl file\n",
    "XB_Model_pkl = open(XB_pkl_filename, 'wb')\n",
    "pickle.dump(XB, XB_Model_pkl)\n",
    "# Close the pickle instances\n",
    "XB_Model_pkl.close()"
   ]
  },
  {
   "cell_type": "markdown",
   "metadata": {},
   "source": [
    "## Accuracy Comparison"
   ]
  },
  {
   "cell_type": "code",
   "execution_count": 77,
   "metadata": {
    "execution": {
     "iopub.execute_input": "2024-02-23T15:15:57.080675Z",
     "iopub.status.busy": "2024-02-23T15:15:57.079943Z",
     "iopub.status.idle": "2024-02-23T15:15:57.283435Z",
     "shell.execute_reply": "2024-02-23T15:15:57.282456Z",
     "shell.execute_reply.started": "2024-02-23T15:15:57.080620Z"
    }
   },
   "outputs": [
    {
     "data": {
      "text/plain": [
       "<matplotlib.axes._subplots.AxesSubplot at 0x7f6c713e5990>"
      ]
     },
     "execution_count": 77,
     "metadata": {},
     "output_type": "execute_result"
    },
    {
     "data": {
      "image/png": "[encoded data removed]",
      "text/plain": [
       "<Figure size 1000x500 with 1 Axes>"
      ]
     },
     "metadata": {
      "needs_background": "light"
     },
     "output_type": "display_data"
    }
   ],
   "source": [
    "plt.figure(figsize=[10,5],dpi = 100)\n",
    "plt.title('Accuracy Comparison')\n",
    "plt.xlabel('Accuracy')\n",
    "plt.ylabel('Algorithm')\n",
    "sns.barplot(x = acc,y = model,palette='dark')"
   ]
  },
  {
   "cell_type": "code",
   "execution_count": 78,
   "metadata": {
    "execution": {
     "iopub.execute_input": "2024-02-23T15:16:04.837336Z",
     "iopub.status.busy": "2024-02-23T15:16:04.836924Z",
     "iopub.status.idle": "2024-02-23T15:16:04.847144Z",
     "shell.execute_reply": "2024-02-23T15:16:04.845964Z",
     "shell.execute_reply.started": "2024-02-23T15:16:04.837295Z"
    }
   },
   "outputs": [
    {
     "name": "stdout",
     "output_type": "stream",
     "text": [
      "Decision Tree --> 0.9763636363636363\n",
      "Naive Bayes --> 1.0\n",
      "SVM --> 0.038181818181818185\n",
      "Logistic Regression --> 0.6945454545454546\n",
      "RF --> 1.0\n",
      "XGBoost --> 0.9981818181818182\n"
     ]
    }
   ],
   "source": [
    "accuracy_models = dict(zip(model, acc))\n",
    "for k, v in accuracy_models.items():\n",
    "    print (k, '-->', v)"
   ]
  },
  {
   "cell_type": "markdown",
   "metadata": {},
   "source": [
    "## Making a prediction"
   ]
  },
  {
   "cell_type": "code",
   "execution_count": 79,
   "metadata": {
    "execution": {
     "iopub.execute_input": "2024-02-23T15:16:26.115531Z",
     "iopub.status.busy": "2024-02-23T15:16:26.115089Z",
     "iopub.status.idle": "2024-02-23T15:16:26.349983Z",
     "shell.execute_reply": "2024-02-23T15:16:26.348302Z",
     "shell.execute_reply.started": "2024-02-23T15:16:26.115490Z"
    }
   },
   "outputs": [
    {
     "ename": "ValueError",
     "evalue": "Number of features of the model must match the input. Model n_features is 9 and input n_features is 7 ",
     "output_type": "error",
     "traceback": [
      "\u001b[0;31m---------------------------------------------------------------------------\u001b[0m",
      "\u001b[0;31mValueError\u001b[0m                                Traceback (most recent call last)",
      "\u001b[0;32m<ipython-input-79-e81641e49756>\u001b[0m in \u001b[0;36m<module>\u001b[0;34m\u001b[0m\n\u001b[1;32m      1\u001b[0m \u001b[0mdata\u001b[0m \u001b[0;34m=\u001b[0m \u001b[0mnp\u001b[0m\u001b[0;34m.\u001b[0m\u001b[0marray\u001b[0m\u001b[0;34m(\u001b[0m\u001b[0;34m[\u001b[0m\u001b[0;34m[\u001b[0m\u001b[0;36m104\u001b[0m\u001b[0;34m,\u001b[0m\u001b[0;36m18\u001b[0m\u001b[0;34m,\u001b[0m \u001b[0;36m30\u001b[0m\u001b[0;34m,\u001b[0m \u001b[0;36m23.603016\u001b[0m\u001b[0;34m,\u001b[0m \u001b[0;36m60.3\u001b[0m\u001b[0;34m,\u001b[0m \u001b[0;36m6.7\u001b[0m\u001b[0;34m,\u001b[0m \u001b[0;36m140.91\u001b[0m\u001b[0;34m]\u001b[0m\u001b[0;34m]\u001b[0m\u001b[0;34m)\u001b[0m\u001b[0;34m\u001b[0m\u001b[0;34m\u001b[0m\u001b[0m\n\u001b[0;32m----> 2\u001b[0;31m \u001b[0mprediction\u001b[0m \u001b[0;34m=\u001b[0m \u001b[0mRF\u001b[0m\u001b[0;34m.\u001b[0m\u001b[0mpredict\u001b[0m\u001b[0;34m(\u001b[0m\u001b[0mdata\u001b[0m\u001b[0;34m)\u001b[0m\u001b[0;34m\u001b[0m\u001b[0;34m\u001b[0m\u001b[0m\n\u001b[0m\u001b[1;32m      3\u001b[0m \u001b[0mprint\u001b[0m\u001b[0;34m(\u001b[0m\u001b[0mprediction\u001b[0m\u001b[0;34m)\u001b[0m\u001b[0;34m\u001b[0m\u001b[0;34m\u001b[0m\u001b[0m\n",
      "\u001b[0;32m/opt/conda/lib/python3.7/site-packages/sklearn/ensemble/_forest.py\u001b[0m in \u001b[0;36mpredict\u001b[0;34m(self, X)\u001b[0m\n\u001b[1;32m    627\u001b[0m             \u001b[0mThe\u001b[0m \u001b[0mpredicted\u001b[0m \u001b[0mclasses\u001b[0m\u001b[0;34m.\u001b[0m\u001b[0;34m\u001b[0m\u001b[0;34m\u001b[0m\u001b[0m\n\u001b[1;32m    628\u001b[0m         \"\"\"\n\u001b[0;32m--> 629\u001b[0;31m         \u001b[0mproba\u001b[0m \u001b[0;34m=\u001b[0m \u001b[0mself\u001b[0m\u001b[0;34m.\u001b[0m\u001b[0mpredict_proba\u001b[0m\u001b[0;34m(\u001b[0m\u001b[0mX\u001b[0m\u001b[0;34m)\u001b[0m\u001b[0;34m\u001b[0m\u001b[0;34m\u001b[0m\u001b[0m\n\u001b[0m\u001b[1;32m    630\u001b[0m \u001b[0;34m\u001b[0m\u001b[0m\n\u001b[1;32m    631\u001b[0m         \u001b[0;32mif\u001b[0m \u001b[0mself\u001b[0m\u001b[0;34m.\u001b[0m\u001b[0mn_outputs_\u001b[0m \u001b[0;34m==\u001b[0m \u001b[0;36m1\u001b[0m\u001b[0;34m:\u001b[0m\u001b[0;34m\u001b[0m\u001b[0;34m\u001b[0m\u001b[0m\n",
      "\u001b[0;32m/opt/conda/lib/python3.7/site-packages/sklearn/ensemble/_forest.py\u001b[0m in \u001b[0;36mpredict_proba\u001b[0;34m(self, X)\u001b[0m\n\u001b[1;32m    671\u001b[0m         \u001b[0mcheck_is_fitted\u001b[0m\u001b[0;34m(\u001b[0m\u001b[0mself\u001b[0m\u001b[0;34m)\u001b[0m\u001b[0;34m\u001b[0m\u001b[0;34m\u001b[0m\u001b[0m\n\u001b[1;32m    672\u001b[0m         \u001b[0;31m# Check data\u001b[0m\u001b[0;34m\u001b[0m\u001b[0;34m\u001b[0m\u001b[0;34m\u001b[0m\u001b[0m\n\u001b[0;32m--> 673\u001b[0;31m         \u001b[0mX\u001b[0m \u001b[0;34m=\u001b[0m \u001b[0mself\u001b[0m\u001b[0;34m.\u001b[0m\u001b[0m_validate_X_predict\u001b[0m\u001b[0;34m(\u001b[0m\u001b[0mX\u001b[0m\u001b[0;34m)\u001b[0m\u001b[0;34m\u001b[0m\u001b[0;34m\u001b[0m\u001b[0m\n\u001b[0m\u001b[1;32m    674\u001b[0m \u001b[0;34m\u001b[0m\u001b[0m\n\u001b[1;32m    675\u001b[0m         \u001b[0;31m# Assign chunk of trees to jobs\u001b[0m\u001b[0;34m\u001b[0m\u001b[0;34m\u001b[0m\u001b[0;34m\u001b[0m\u001b[0m\n",
      "\u001b[0;32m/opt/conda/lib/python3.7/site-packages/sklearn/ensemble/_forest.py\u001b[0m in \u001b[0;36m_validate_X_predict\u001b[0;34m(self, X)\u001b[0m\n\u001b[1;32m    419\u001b[0m         \u001b[0mcheck_is_fitted\u001b[0m\u001b[0;34m(\u001b[0m\u001b[0mself\u001b[0m\u001b[0;34m)\u001b[0m\u001b[0;34m\u001b[0m\u001b[0;34m\u001b[0m\u001b[0m\n\u001b[1;32m    420\u001b[0m \u001b[0;34m\u001b[0m\u001b[0m\n\u001b[0;32m--> 421\u001b[0;31m         \u001b[0;32mreturn\u001b[0m \u001b[0mself\u001b[0m\u001b[0;34m.\u001b[0m\u001b[0mestimators_\u001b[0m\u001b[0;34m[\u001b[0m\u001b[0;36m0\u001b[0m\u001b[0;34m]\u001b[0m\u001b[0;34m.\u001b[0m\u001b[0m_validate_X_predict\u001b[0m\u001b[0;34m(\u001b[0m\u001b[0mX\u001b[0m\u001b[0;34m,\u001b[0m \u001b[0mcheck_input\u001b[0m\u001b[0;34m=\u001b[0m\u001b[0;32mTrue\u001b[0m\u001b[0;34m)\u001b[0m\u001b[0;34m\u001b[0m\u001b[0;34m\u001b[0m\u001b[0m\n\u001b[0m\u001b[1;32m    422\u001b[0m \u001b[0;34m\u001b[0m\u001b[0m\n\u001b[1;32m    423\u001b[0m     \u001b[0;34m@\u001b[0m\u001b[0mproperty\u001b[0m\u001b[0;34m\u001b[0m\u001b[0;34m\u001b[0m\u001b[0m\n",
      "\u001b[0;32m/opt/conda/lib/python3.7/site-packages/sklearn/tree/_classes.py\u001b[0m in \u001b[0;36m_validate_X_predict\u001b[0;34m(self, X, check_input)\u001b[0m\n\u001b[1;32m    397\u001b[0m                              \u001b[0;34m\"match the input. Model n_features is %s and \"\u001b[0m\u001b[0;34m\u001b[0m\u001b[0;34m\u001b[0m\u001b[0m\n\u001b[1;32m    398\u001b[0m                              \u001b[0;34m\"input n_features is %s \"\u001b[0m\u001b[0;34m\u001b[0m\u001b[0;34m\u001b[0m\u001b[0m\n\u001b[0;32m--> 399\u001b[0;31m                              % (self.n_features_, n_features))\n\u001b[0m\u001b[1;32m    400\u001b[0m \u001b[0;34m\u001b[0m\u001b[0m\n\u001b[1;32m    401\u001b[0m         \u001b[0;32mreturn\u001b[0m \u001b[0mX\u001b[0m\u001b[0;34m\u001b[0m\u001b[0;34m\u001b[0m\u001b[0m\n",
      "\u001b[0;31mValueError\u001b[0m: Number of features of the model must match the input. Model n_features is 9 and input n_features is 7 "
     ]
    }
   ],
   "source": [
    "data = np.array([[104,18, 30, 23.603016, 60.3, 6.7, 140.91]])\n",
    "prediction = RF.predict(data)\n",
    "print(prediction)"
   ]
  },
  {
   "cell_type": "code",
   "execution_count": 44,
   "metadata": {
    "execution": {
     "iopub.execute_input": "2024-02-22T13:40:46.561614Z",
     "iopub.status.busy": "2024-02-22T13:40:46.561125Z",
     "iopub.status.idle": "2024-02-22T13:40:46.573049Z",
     "shell.execute_reply": "2024-02-22T13:40:46.571823Z",
     "shell.execute_reply.started": "2024-02-22T13:40:46.561570Z"
    }
   },
   "outputs": [
    {
     "name": "stdout",
     "output_type": "stream",
     "text": [
      "['jute']\n"
     ]
    }
   ],
   "source": [
    "data = np.array([[83, 45, 60, 28, 70.3, 7.0, 150.9]])\n",
    "prediction = RF.predict(data)\n",
    "print(prediction)"
   ]
  },
  {
   "cell_type": "code",
   "execution_count": 47,
   "metadata": {
    "execution": {
     "iopub.execute_input": "2024-02-22T14:01:14.427735Z",
     "iopub.status.busy": "2024-02-22T14:01:14.427217Z",
     "iopub.status.idle": "2024-02-22T14:01:14.451521Z",
     "shell.execute_reply": "2024-02-22T14:01:14.450354Z",
     "shell.execute_reply.started": "2024-02-22T14:01:14.427691Z"
    }
   },
   "outputs": [
    {
     "name": "stdout",
     "output_type": "stream",
     "text": [
      "Crop prediction using XGBoost: ['coffee']\n"
     ]
    }
   ],
   "source": [
    "with open('XGBoost.pkl', 'rb') as XB_Model_pkl:\n",
    "    XB = pickle.load(XB_Model_pkl)\n",
    "\n",
    "input_features = ['N', 'P', 'K', 'temperature', 'humidity', 'ph', 'rainfall']\n",
    "\n",
    "data = np.array([[104,18, 30, 23.603016, 60.3, 6.7, 140.91]])\n",
    "data_dict = dict(zip(input_features, data[0]))\n",
    "\n",
    "input_df = pd.DataFrame(data_dict, index=[0])\n",
    "\n",
    "# Make predictions using the XGBoost model\n",
    "prediction = XB.predict(input_df)\n",
    "\n",
    "print(\"Crop prediction using XGBoost:\", prediction)\n"
   ]
  }
 ],
 "metadata": {
  "kaggle": {
   "accelerator": "none",
   "dataSources": [
    {
     "datasetId": 4485141,
     "sourceId": 7686231,
     "sourceType": "datasetVersion"
    }
   ],
   "dockerImageVersionId": 30042,
   "isGpuEnabled": false,
   "isInternetEnabled": false,
   "language": "python",
   "sourceType": "notebook"
  },
  "kernelspec": {
   "display_name": "Python 3 (ipykernel)",
   "language": "python",
   "name": "python3"
  },
  "language_info": {
   "codemirror_mode": {
    "name": "ipython",
    "version": 3
   },
   "file_extension": ".py",
   "mimetype": "text/x-python",
   "name": "python",
   "nbconvert_exporter": "python",
   "pygments_lexer": "ipython3",
   "version": "3.11.5"
  }
 },
 "nbformat": 4,
 "nbformat_minor": 4
}
