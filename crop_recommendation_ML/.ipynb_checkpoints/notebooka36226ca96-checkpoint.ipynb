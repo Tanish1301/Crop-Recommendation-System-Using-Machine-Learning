{
 "cells": [
  {
   "cell_type": "markdown",
   "metadata": {},
   "source": [
    "The data used in this project is made by augmenting and combining various publicly available datasets of India like weather, soil, etc. You can access the dataset [here](https://www.kaggle.com/atharvaingle/crop-recommendation-dataset). This data is relatively simple with very few but useful features unlike the complicated features affecting the yield of the crop.\n",
    "\n",
    "The data have Nitrogen, Phosphorous, Pottasium and pH values of the soil. Also, it also contains the humidity, temperature and rainfall required for a particular crop. "
   ]
  },
  {
   "cell_type": "code",
   "execution_count": 1,
   "metadata": {
    "execution": {
     "iopub.execute_input": "2024-04-07T06:31:27.242528Z",
     "iopub.status.busy": "2024-04-07T06:31:27.242052Z",
     "iopub.status.idle": "2024-04-07T06:31:30.535836Z",
     "shell.execute_reply": "2024-04-07T06:31:30.534502Z",
     "shell.execute_reply.started": "2024-04-07T06:31:27.242467Z"
    }
   },
   "outputs": [],
   "source": [
    "# Importing libraries\n",
    "\n",
    "from __future__ import print_function\n",
    "import pandas as pd\n",
    "import numpy as np\n",
    "import matplotlib.pyplot as plt\n",
    "import seaborn as sns\n",
    "from sklearn.metrics import classification_report\n",
    "from sklearn import metrics\n",
    "from sklearn import tree\n",
    "import warnings\n",
    "warnings.filterwarnings('ignore')"
   ]
  },
  {
   "cell_type": "code",
   "execution_count": 3,
   "metadata": {
    "execution": {
     "iopub.execute_input": "2024-04-07T06:31:39.195164Z",
     "iopub.status.busy": "2024-04-07T06:31:39.194548Z",
     "iopub.status.idle": "2024-04-07T06:31:39.227502Z",
     "shell.execute_reply": "2024-04-07T06:31:39.226217Z",
     "shell.execute_reply.started": "2024-04-07T06:31:39.195130Z"
    }
   },
   "outputs": [],
   "source": [
    "PATH = 'indiancrop_dataset.csv'\n",
    "df = pd.read_csv(PATH)"
   ]
  },
  {
   "cell_type": "code",
   "execution_count": 4,
   "metadata": {
    "execution": {
     "iopub.execute_input": "2024-04-07T06:31:41.669387Z",
     "iopub.status.busy": "2024-04-07T06:31:41.668531Z",
     "iopub.status.idle": "2024-04-07T06:31:41.694084Z",
     "shell.execute_reply": "2024-04-07T06:31:41.692854Z",
     "shell.execute_reply.started": "2024-04-07T06:31:41.669345Z"
    }
   },
   "outputs": [
    {
     "data": {
      "text/html": [
       "<div>\n",
       "<style scoped>\n",
       "    .dataframe tbody tr th:only-of-type {\n",
       "        vertical-align: middle;\n",
       "    }\n",
       "\n",
       "    .dataframe tbody tr th {\n",
       "        vertical-align: top;\n",
       "    }\n",
       "\n",
       "    .dataframe thead th {\n",
       "        text-align: right;\n",
       "    }\n",
       "</style>\n",
       "<table border=\"1\" class=\"dataframe\">\n",
       "  <thead>\n",
       "    <tr style=\"text-align: right;\">\n",
       "      <th></th>\n",
       "      <th>N_SOIL</th>\n",
       "      <th>P_SOIL</th>\n",
       "      <th>K_SOIL</th>\n",
       "      <th>TEMPERATURE</th>\n",
       "      <th>HUMIDITY</th>\n",
       "      <th>ph</th>\n",
       "      <th>RAINFALL</th>\n",
       "      <th>STATE</th>\n",
       "      <th>CROP_PRICE</th>\n",
       "      <th>CROP</th>\n",
       "    </tr>\n",
       "  </thead>\n",
       "  <tbody>\n",
       "    <tr>\n",
       "      <th>0</th>\n",
       "      <td>90</td>\n",
       "      <td>42</td>\n",
       "      <td>43</td>\n",
       "      <td>20.879744</td>\n",
       "      <td>82.002744</td>\n",
       "      <td>6.502985</td>\n",
       "      <td>202.935536</td>\n",
       "      <td>Andaman and Nicobar</td>\n",
       "      <td>7000</td>\n",
       "      <td>Rice</td>\n",
       "    </tr>\n",
       "    <tr>\n",
       "      <th>1</th>\n",
       "      <td>85</td>\n",
       "      <td>58</td>\n",
       "      <td>41</td>\n",
       "      <td>21.770462</td>\n",
       "      <td>80.319644</td>\n",
       "      <td>7.038096</td>\n",
       "      <td>226.655537</td>\n",
       "      <td>Andaman and Nicobar</td>\n",
       "      <td>5000</td>\n",
       "      <td>Rice</td>\n",
       "    </tr>\n",
       "    <tr>\n",
       "      <th>2</th>\n",
       "      <td>60</td>\n",
       "      <td>55</td>\n",
       "      <td>44</td>\n",
       "      <td>23.004459</td>\n",
       "      <td>82.320763</td>\n",
       "      <td>7.840207</td>\n",
       "      <td>263.964248</td>\n",
       "      <td>Andaman and Nicobar</td>\n",
       "      <td>7000</td>\n",
       "      <td>Rice</td>\n",
       "    </tr>\n",
       "    <tr>\n",
       "      <th>3</th>\n",
       "      <td>74</td>\n",
       "      <td>35</td>\n",
       "      <td>40</td>\n",
       "      <td>26.491096</td>\n",
       "      <td>80.158363</td>\n",
       "      <td>6.980401</td>\n",
       "      <td>242.864034</td>\n",
       "      <td>Andaman and Nicobar</td>\n",
       "      <td>7000</td>\n",
       "      <td>Rice</td>\n",
       "    </tr>\n",
       "    <tr>\n",
       "      <th>4</th>\n",
       "      <td>78</td>\n",
       "      <td>42</td>\n",
       "      <td>42</td>\n",
       "      <td>20.130175</td>\n",
       "      <td>81.604873</td>\n",
       "      <td>7.628473</td>\n",
       "      <td>262.717340</td>\n",
       "      <td>Andaman and Nicobar</td>\n",
       "      <td>120000</td>\n",
       "      <td>Rice</td>\n",
       "    </tr>\n",
       "  </tbody>\n",
       "</table>\n",
       "</div>"
      ],
      "text/plain": [
       "   N_SOIL  P_SOIL  K_SOIL  TEMPERATURE   HUMIDITY        ph    RAINFALL  \\\n",
       "0      90      42      43    20.879744  82.002744  6.502985  202.935536   \n",
       "1      85      58      41    21.770462  80.319644  7.038096  226.655537   \n",
       "2      60      55      44    23.004459  82.320763  7.840207  263.964248   \n",
       "3      74      35      40    26.491096  80.158363  6.980401  242.864034   \n",
       "4      78      42      42    20.130175  81.604873  7.628473  262.717340   \n",
       "\n",
       "                 STATE  CROP_PRICE  CROP  \n",
       "0  Andaman and Nicobar        7000  Rice  \n",
       "1  Andaman and Nicobar        5000  Rice  \n",
       "2  Andaman and Nicobar        7000  Rice  \n",
       "3  Andaman and Nicobar        7000  Rice  \n",
       "4  Andaman and Nicobar      120000  Rice  "
      ]
     },
     "execution_count": 4,
     "metadata": {},
     "output_type": "execute_result"
    }
   ],
   "source": [
    "df.head()"
   ]
  },
  {
   "cell_type": "code",
   "execution_count": 5,
   "metadata": {
    "execution": {
     "iopub.execute_input": "2024-04-07T06:31:44.582507Z",
     "iopub.status.busy": "2024-04-07T06:31:44.581896Z",
     "iopub.status.idle": "2024-04-07T06:31:44.596310Z",
     "shell.execute_reply": "2024-04-07T06:31:44.595064Z",
     "shell.execute_reply.started": "2024-04-07T06:31:44.582456Z"
    }
   },
   "outputs": [
    {
     "data": {
      "text/plain": [
       "N_SOIL         0\n",
       "P_SOIL         0\n",
       "K_SOIL         0\n",
       "TEMPERATURE    0\n",
       "HUMIDITY       0\n",
       "ph             0\n",
       "RAINFALL       0\n",
       "STATE          0\n",
       "CROP_PRICE     0\n",
       "CROP           0\n",
       "dtype: int64"
      ]
     },
     "execution_count": 5,
     "metadata": {},
     "output_type": "execute_result"
    }
   ],
   "source": [
    "df.isna().sum()"
   ]
  },
  {
   "cell_type": "code",
   "execution_count": 6,
   "metadata": {
    "execution": {
     "iopub.execute_input": "2024-04-07T06:31:53.877720Z",
     "iopub.status.busy": "2024-04-07T06:31:53.876931Z",
     "iopub.status.idle": "2024-04-07T06:31:53.893985Z",
     "shell.execute_reply": "2024-04-07T06:31:53.893027Z",
     "shell.execute_reply.started": "2024-04-07T06:31:53.877678Z"
    }
   },
   "outputs": [
    {
     "data": {
      "text/plain": [
       "array(['Andaman and Nicobar', 'Andhra Pradesh', 'Assam', 'Chattisgarh',\n",
       "       'Goa', 'Gujarat', 'Haryana', 'Himachal Pradesh',\n",
       "       'Jammu and Kashmir', 'Karnataka', 'Kerala', 'Madhya Pradesh',\n",
       "       'Maharashtra', 'Manipur', 'Meghalaya', 'Nagaland', 'Odisha',\n",
       "       'Pondicherry', 'Punjab', 'Rajasthan', 'Tamil Nadu', 'Telangana',\n",
       "       'Tripura', 'Uttar Pradesh', 'Uttrakhand', 'West Bengal'],\n",
       "      dtype=object)"
      ]
     },
     "execution_count": 6,
     "metadata": {},
     "output_type": "execute_result"
    }
   ],
   "source": [
    "df['STATE'].unique()"
   ]
  },
  {
   "cell_type": "code",
   "execution_count": 7,
   "metadata": {
    "execution": {
     "iopub.execute_input": "2024-04-07T06:31:56.256159Z",
     "iopub.status.busy": "2024-04-07T06:31:56.255737Z",
     "iopub.status.idle": "2024-04-07T06:31:56.265478Z",
     "shell.execute_reply": "2024-04-07T06:31:56.263938Z",
     "shell.execute_reply.started": "2024-04-07T06:31:56.256127Z"
    }
   },
   "outputs": [
    {
     "data": {
      "text/plain": [
       "(2200, 10)"
      ]
     },
     "execution_count": 7,
     "metadata": {},
     "output_type": "execute_result"
    }
   ],
   "source": [
    "df.shape"
   ]
  },
  {
   "cell_type": "code",
   "execution_count": 8,
   "metadata": {
    "execution": {
     "iopub.execute_input": "2024-04-07T06:34:16.904534Z",
     "iopub.status.busy": "2024-04-07T06:34:16.903476Z",
     "iopub.status.idle": "2024-04-07T06:34:16.911383Z",
     "shell.execute_reply": "2024-04-07T06:34:16.910487Z",
     "shell.execute_reply.started": "2024-04-07T06:34:16.904485Z"
    }
   },
   "outputs": [
    {
     "data": {
      "text/plain": [
       "Index(['N_SOIL', 'P_SOIL', 'K_SOIL', 'TEMPERATURE', 'HUMIDITY', 'ph',\n",
       "       'RAINFALL', 'STATE', 'CROP_PRICE', 'CROP'],\n",
       "      dtype='object')"
      ]
     },
     "execution_count": 8,
     "metadata": {},
     "output_type": "execute_result"
    }
   ],
   "source": [
    "df.columns"
   ]
  },
  {
   "cell_type": "code",
   "execution_count": 9,
   "metadata": {
    "execution": {
     "iopub.execute_input": "2024-04-07T06:34:11.444125Z",
     "iopub.status.busy": "2024-04-07T06:34:11.443642Z",
     "iopub.status.idle": "2024-04-07T06:34:11.450026Z",
     "shell.execute_reply": "2024-04-07T06:34:11.449032Z",
     "shell.execute_reply.started": "2024-04-07T06:34:11.444089Z"
    }
   },
   "outputs": [],
   "source": [
    "df = df.drop('CROP_PRICE', axis=1)"
   ]
  },
  {
   "cell_type": "code",
   "execution_count": 10,
   "metadata": {
    "execution": {
     "iopub.execute_input": "2024-04-07T06:34:22.499976Z",
     "iopub.status.busy": "2024-04-07T06:34:22.499532Z",
     "iopub.status.idle": "2024-04-07T06:34:22.507286Z",
     "shell.execute_reply": "2024-04-07T06:34:22.506486Z",
     "shell.execute_reply.started": "2024-04-07T06:34:22.499940Z"
    }
   },
   "outputs": [
    {
     "data": {
      "text/plain": [
       "array(['Rice', 'Maize', 'ChickPea', 'KidneyBeans', 'PigeonPeas',\n",
       "       'MothBeans', 'MungBean', 'Blackgram', 'Lentil', 'Pomegranate',\n",
       "       'Banana', 'Mango', 'Grapes', 'Watermelon', 'Muskmelon', 'Apple',\n",
       "       'Orange', 'Papaya', 'Coconut', 'Cotton', 'Jute', 'Coffee'],\n",
       "      dtype=object)"
      ]
     },
     "execution_count": 10,
     "metadata": {},
     "output_type": "execute_result"
    }
   ],
   "source": [
    "df['CROP'].unique()"
   ]
  },
  {
   "cell_type": "code",
   "execution_count": 11,
   "metadata": {
    "execution": {
     "iopub.execute_input": "2024-04-07T06:34:23.295130Z",
     "iopub.status.busy": "2024-04-07T06:34:23.294645Z",
     "iopub.status.idle": "2024-04-07T06:34:23.304681Z",
     "shell.execute_reply": "2024-04-07T06:34:23.303419Z",
     "shell.execute_reply.started": "2024-04-07T06:34:23.295091Z"
    }
   },
   "outputs": [
    {
     "data": {
      "text/plain": [
       "N_SOIL           int64\n",
       "P_SOIL           int64\n",
       "K_SOIL           int64\n",
       "TEMPERATURE    float64\n",
       "HUMIDITY       float64\n",
       "ph             float64\n",
       "RAINFALL       float64\n",
       "STATE           object\n",
       "CROP            object\n",
       "dtype: object"
      ]
     },
     "execution_count": 11,
     "metadata": {},
     "output_type": "execute_result"
    }
   ],
   "source": [
    "df.dtypes"
   ]
  },
  {
   "cell_type": "code",
   "execution_count": 12,
   "metadata": {
    "execution": {
     "iopub.execute_input": "2024-04-07T06:34:28.716143Z",
     "iopub.status.busy": "2024-04-07T06:34:28.715470Z",
     "iopub.status.idle": "2024-04-07T06:34:28.724080Z",
     "shell.execute_reply": "2024-04-07T06:34:28.722706Z",
     "shell.execute_reply.started": "2024-04-07T06:34:28.716110Z"
    }
   },
   "outputs": [],
   "source": [
    "state_mapping = {\n",
    "    'Andaman and Nicobar': 1,\n",
    "    'Andhra Pradesh': 2,\n",
    "    'Assam': 3,\n",
    "    'Chattisgarh': 4,\n",
    "    'Goa': 5,\n",
    "    'Gujarat': 6,\n",
    "    'Haryana': 7,\n",
    "    'Himachal Pradesh': 8,\n",
    "    'Jammu and Kashmir': 9,\n",
    "    'Karnataka': 10,\n",
    "    'Kerala': 11,\n",
    "    'Madhya Pradesh': 12,\n",
    "    'Maharashtra': 13,\n",
    "    'Manipur': 14,\n",
    "    'Meghalaya': 15,\n",
    "    'Nagaland': 16,\n",
    "    'Odisha': 17,\n",
    "    'Pondicherry': 18,\n",
    "    'Punjab': 19,\n",
    "    'Rajasthan': 20,\n",
    "    'Tamil Nadu': 21,\n",
    "    'Telangana': 22,\n",
    "    'Tripura': 23,\n",
    "    'Uttar Pradesh': 24,\n",
    "    'Uttrakhand': 25,\n",
    "    'West Bengal': 26\n",
    "}\n",
    "\n",
    "\n",
    "df['STATE'] = df['STATE'].map(state_mapping)"
   ]
  },
  {
   "cell_type": "markdown",
   "metadata": {},
   "source": [
    "### Seperating features and target label"
   ]
  },
  {
   "cell_type": "code",
   "execution_count": 13,
   "metadata": {
    "execution": {
     "iopub.execute_input": "2024-04-07T06:34:39.536167Z",
     "iopub.status.busy": "2024-04-07T06:34:39.535710Z",
     "iopub.status.idle": "2024-04-07T06:34:39.544246Z",
     "shell.execute_reply": "2024-04-07T06:34:39.543174Z",
     "shell.execute_reply.started": "2024-04-07T06:34:39.536125Z"
    }
   },
   "outputs": [],
   "source": [
    "features = df[['N_SOIL', 'P_SOIL', 'K_SOIL', 'TEMPERATURE', 'HUMIDITY', 'ph',\n",
    "       'RAINFALL', 'STATE']]\n",
    "target = df['CROP']\n",
    "labels = df['CROP']"
   ]
  },
  {
   "cell_type": "code",
   "execution_count": 14,
   "metadata": {
    "execution": {
     "iopub.execute_input": "2024-04-07T06:34:42.421268Z",
     "iopub.status.busy": "2024-04-07T06:34:42.420809Z",
     "iopub.status.idle": "2024-04-07T06:34:42.426776Z",
     "shell.execute_reply": "2024-04-07T06:34:42.425487Z",
     "shell.execute_reply.started": "2024-04-07T06:34:42.421234Z"
    }
   },
   "outputs": [],
   "source": [
    "# Initializing empty lists to append all model's name and corresponding name\n",
    "acc = []\n",
    "model = []"
   ]
  },
  {
   "cell_type": "code",
   "execution_count": 15,
   "metadata": {
    "execution": {
     "iopub.execute_input": "2024-04-07T06:34:43.281240Z",
     "iopub.status.busy": "2024-04-07T06:34:43.280528Z",
     "iopub.status.idle": "2024-04-07T06:34:43.289609Z",
     "shell.execute_reply": "2024-04-07T06:34:43.288668Z",
     "shell.execute_reply.started": "2024-04-07T06:34:43.281199Z"
    }
   },
   "outputs": [
    {
     "data": {
      "text/plain": [
       "N_SOIL         0\n",
       "P_SOIL         0\n",
       "K_SOIL         0\n",
       "TEMPERATURE    0\n",
       "HUMIDITY       0\n",
       "ph             0\n",
       "RAINFALL       0\n",
       "STATE          0\n",
       "CROP           0\n",
       "dtype: int64"
      ]
     },
     "execution_count": 15,
     "metadata": {},
     "output_type": "execute_result"
    }
   ],
   "source": [
    "df.isna().sum()"
   ]
  },
  {
   "cell_type": "code",
   "execution_count": 16,
   "metadata": {
    "execution": {
     "iopub.execute_input": "2024-04-07T06:34:53.751606Z",
     "iopub.status.busy": "2024-04-07T06:34:53.750316Z",
     "iopub.status.idle": "2024-04-07T06:34:53.759045Z",
     "shell.execute_reply": "2024-04-07T06:34:53.757911Z",
     "shell.execute_reply.started": "2024-04-07T06:34:53.751561Z"
    }
   },
   "outputs": [],
   "source": [
    "# Splitting into train and test data\n",
    "\n",
    "from sklearn.model_selection import train_test_split\n",
    "Xtrain, Xtest, Ytrain, Ytest = train_test_split(features,target,test_size = 0.25,random_state =2)"
   ]
  },
  {
   "cell_type": "markdown",
   "metadata": {},
   "source": [
    "# Decision Tree"
   ]
  },
  {
   "cell_type": "code",
   "execution_count": 17,
   "metadata": {
    "execution": {
     "iopub.execute_input": "2024-04-07T06:34:57.022325Z",
     "iopub.status.busy": "2024-04-07T06:34:57.021580Z",
     "iopub.status.idle": "2024-04-07T06:34:57.077681Z",
     "shell.execute_reply": "2024-04-07T06:34:57.076248Z",
     "shell.execute_reply.started": "2024-04-07T06:34:57.022288Z"
    }
   },
   "outputs": [
    {
     "name": "stdout",
     "output_type": "stream",
     "text": [
      "DecisionTrees's Accuracy is:  97.63636363636363\n",
      "              precision    recall  f1-score   support\n",
      "\n",
      "       Apple       1.00      1.00      1.00        24\n",
      "      Banana       1.00      1.00      1.00        19\n",
      "   Blackgram       0.91      1.00      0.95        20\n",
      "    ChickPea       1.00      1.00      1.00        26\n",
      "     Coconut       1.00      1.00      1.00        27\n",
      "      Coffee       1.00      1.00      1.00        26\n",
      "      Cotton       1.00      1.00      1.00        24\n",
      "      Grapes       1.00      1.00      1.00        23\n",
      "        Jute       1.00      1.00      1.00        31\n",
      " KidneyBeans       1.00      1.00      1.00        25\n",
      "      Lentil       1.00      1.00      1.00        26\n",
      "       Maize       0.93      1.00      0.96        26\n",
      "       Mango       1.00      0.94      0.97        31\n",
      "   MothBeans       1.00      0.64      0.78        25\n",
      "    MungBean       1.00      1.00      1.00        29\n",
      "   Muskmelon       1.00      1.00      1.00        26\n",
      "      Orange       1.00      1.00      1.00        34\n",
      "      Papaya       1.00      1.00      1.00        23\n",
      "  PigeonPeas       0.71      0.92      0.80        24\n",
      " Pomegranate       1.00      1.00      1.00        19\n",
      "        Rice       1.00      1.00      1.00        25\n",
      "  Watermelon       1.00      1.00      1.00        17\n",
      "\n",
      "    accuracy                           0.98       550\n",
      "   macro avg       0.98      0.98      0.98       550\n",
      "weighted avg       0.98      0.98      0.98       550\n",
      "\n"
     ]
    }
   ],
   "source": [
    "from sklearn.tree import DecisionTreeClassifier\n",
    "\n",
    "DecisionTree = DecisionTreeClassifier(criterion=\"entropy\",random_state=2,max_depth=5)\n",
    "\n",
    "DecisionTree.fit(Xtrain,Ytrain)\n",
    "\n",
    "predicted_values = DecisionTree.predict(Xtest)\n",
    "x = metrics.accuracy_score(Ytest, predicted_values)\n",
    "acc.append(x)\n",
    "model.append('Decision Tree')\n",
    "print(\"DecisionTrees's Accuracy is: \", x*100)\n",
    "\n",
    "print(classification_report(Ytest,predicted_values))"
   ]
  },
  {
   "cell_type": "code",
   "execution_count": 18,
   "metadata": {
    "execution": {
     "iopub.execute_input": "2024-04-07T06:35:04.625757Z",
     "iopub.status.busy": "2024-04-07T06:35:04.625295Z",
     "iopub.status.idle": "2024-04-07T06:35:04.631756Z",
     "shell.execute_reply": "2024-04-07T06:35:04.630384Z",
     "shell.execute_reply.started": "2024-04-07T06:35:04.625722Z"
    }
   },
   "outputs": [],
   "source": [
    "from sklearn.model_selection import cross_val_score"
   ]
  },
  {
   "cell_type": "code",
   "execution_count": 19,
   "metadata": {
    "execution": {
     "iopub.execute_input": "2024-04-07T06:35:05.815355Z",
     "iopub.status.busy": "2024-04-07T06:35:05.814122Z",
     "iopub.status.idle": "2024-04-07T06:35:05.937271Z",
     "shell.execute_reply": "2024-04-07T06:35:05.935789Z",
     "shell.execute_reply.started": "2024-04-07T06:35:05.815302Z"
    }
   },
   "outputs": [],
   "source": [
    "# Cross validation score (Decision Tree)\n",
    "score = cross_val_score(DecisionTree, features, target,cv=5)"
   ]
  },
  {
   "cell_type": "code",
   "execution_count": 20,
   "metadata": {
    "execution": {
     "iopub.execute_input": "2024-04-07T06:35:07.020484Z",
     "iopub.status.busy": "2024-04-07T06:35:07.019968Z",
     "iopub.status.idle": "2024-04-07T06:35:07.029211Z",
     "shell.execute_reply": "2024-04-07T06:35:07.028006Z",
     "shell.execute_reply.started": "2024-04-07T06:35:07.020424Z"
    }
   },
   "outputs": [
    {
     "data": {
      "text/plain": [
       "array([0.93636364, 1.        , 0.99772727, 1.        , 0.85      ])"
      ]
     },
     "execution_count": 20,
     "metadata": {},
     "output_type": "execute_result"
    }
   ],
   "source": [
    "score"
   ]
  },
  {
   "cell_type": "markdown",
   "metadata": {},
   "source": [
    "### Saving trained Decision Tree model"
   ]
  },
  {
   "cell_type": "code",
   "execution_count": 21,
   "metadata": {
    "execution": {
     "iopub.execute_input": "2024-04-07T06:35:13.567152Z",
     "iopub.status.busy": "2024-04-07T06:35:13.566688Z",
     "iopub.status.idle": "2024-04-07T06:35:13.574832Z",
     "shell.execute_reply": "2024-04-07T06:35:13.573434Z",
     "shell.execute_reply.started": "2024-04-07T06:35:13.567116Z"
    }
   },
   "outputs": [],
   "source": [
    "import pickle\n",
    "# Dump the trained Naive Bayes classifier with Pickle\n",
    "DT_pkl_filename = 'DecisionTree.pkl'\n",
    "# Open the file to save as pkl file\n",
    "DT_Model_pkl = open(DT_pkl_filename, 'wb')\n",
    "pickle.dump(DecisionTree, DT_Model_pkl)\n",
    "# Close the pickle instances\n",
    "DT_Model_pkl.close()"
   ]
  },
  {
   "cell_type": "markdown",
   "metadata": {},
   "source": [
    "# Guassian Naive Bayes"
   ]
  },
  {
   "cell_type": "code",
   "execution_count": 22,
   "metadata": {
    "execution": {
     "iopub.execute_input": "2024-04-07T06:35:15.900419Z",
     "iopub.status.busy": "2024-04-07T06:35:15.899973Z",
     "iopub.status.idle": "2024-04-07T06:35:15.938603Z",
     "shell.execute_reply": "2024-04-07T06:35:15.937372Z",
     "shell.execute_reply.started": "2024-04-07T06:35:15.900387Z"
    }
   },
   "outputs": [
    {
     "name": "stdout",
     "output_type": "stream",
     "text": [
      "Naive Bayes's Accuracy is:  0.9981818181818182\n",
      "              precision    recall  f1-score   support\n",
      "\n",
      "       Apple       1.00      1.00      1.00        24\n",
      "      Banana       1.00      1.00      1.00        19\n",
      "   Blackgram       1.00      1.00      1.00        20\n",
      "    ChickPea       1.00      1.00      1.00        26\n",
      "     Coconut       1.00      1.00      1.00        27\n",
      "      Coffee       0.96      1.00      0.98        26\n",
      "      Cotton       1.00      1.00      1.00        24\n",
      "      Grapes       1.00      1.00      1.00        23\n",
      "        Jute       1.00      0.97      0.98        31\n",
      " KidneyBeans       1.00      1.00      1.00        25\n",
      "      Lentil       1.00      1.00      1.00        26\n",
      "       Maize       1.00      1.00      1.00        26\n",
      "       Mango       1.00      1.00      1.00        31\n",
      "   MothBeans       1.00      1.00      1.00        25\n",
      "    MungBean       1.00      1.00      1.00        29\n",
      "   Muskmelon       1.00      1.00      1.00        26\n",
      "      Orange       1.00      1.00      1.00        34\n",
      "      Papaya       1.00      1.00      1.00        23\n",
      "  PigeonPeas       1.00      1.00      1.00        24\n",
      " Pomegranate       1.00      1.00      1.00        19\n",
      "        Rice       1.00      1.00      1.00        25\n",
      "  Watermelon       1.00      1.00      1.00        17\n",
      "\n",
      "    accuracy                           1.00       550\n",
      "   macro avg       1.00      1.00      1.00       550\n",
      "weighted avg       1.00      1.00      1.00       550\n",
      "\n"
     ]
    }
   ],
   "source": [
    "from sklearn.naive_bayes import GaussianNB\n",
    "\n",
    "NaiveBayes = GaussianNB()\n",
    "\n",
    "NaiveBayes.fit(Xtrain,Ytrain)\n",
    "\n",
    "predicted_values = NaiveBayes.predict(Xtest)\n",
    "x = metrics.accuracy_score(Ytest, predicted_values)\n",
    "acc.append(x)\n",
    "model.append('Naive Bayes')\n",
    "print(\"Naive Bayes's Accuracy is: \", x)\n",
    "\n",
    "print(classification_report(Ytest,predicted_values))"
   ]
  },
  {
   "cell_type": "code",
   "execution_count": 23,
   "metadata": {
    "execution": {
     "iopub.execute_input": "2024-04-07T06:35:17.383865Z",
     "iopub.status.busy": "2024-04-07T06:35:17.382864Z",
     "iopub.status.idle": "2024-04-07T06:35:17.448502Z",
     "shell.execute_reply": "2024-04-07T06:35:17.447696Z",
     "shell.execute_reply.started": "2024-04-07T06:35:17.383827Z"
    }
   },
   "outputs": [
    {
     "data": {
      "text/plain": [
       "array([0.98409091, 1.        , 1.        , 1.        , 0.91818182])"
      ]
     },
     "execution_count": 23,
     "metadata": {},
     "output_type": "execute_result"
    }
   ],
   "source": [
    "# Cross validation score (NaiveBayes)\n",
    "score = cross_val_score(NaiveBayes,features,target,cv=5)\n",
    "score"
   ]
  },
  {
   "cell_type": "markdown",
   "metadata": {},
   "source": [
    "### Saving trained Guassian Naive Bayes model"
   ]
  },
  {
   "cell_type": "code",
   "execution_count": 24,
   "metadata": {
    "execution": {
     "iopub.execute_input": "2024-04-07T06:35:23.940180Z",
     "iopub.status.busy": "2024-04-07T06:35:23.939689Z",
     "iopub.status.idle": "2024-04-07T06:35:23.946650Z",
     "shell.execute_reply": "2024-04-07T06:35:23.945484Z",
     "shell.execute_reply.started": "2024-04-07T06:35:23.940141Z"
    }
   },
   "outputs": [],
   "source": [
    "import pickle\n",
    "# Dump the trained Naive Bayes classifier with Pickle\n",
    "NB_pkl_filename = 'NBClassifier.pkl'\n",
    "# Open the file to save as pkl file\n",
    "NB_Model_pkl = open(NB_pkl_filename, 'wb')\n",
    "pickle.dump(NaiveBayes, NB_Model_pkl)\n",
    "# Close the pickle instances\n",
    "NB_Model_pkl.close()"
   ]
  },
  {
   "cell_type": "markdown",
   "metadata": {},
   "source": [
    "# Support Vector Machine (SVM)"
   ]
  },
  {
   "cell_type": "code",
   "execution_count": 25,
   "metadata": {
    "execution": {
     "iopub.execute_input": "2024-04-07T06:35:26.242542Z",
     "iopub.status.busy": "2024-04-07T06:35:26.241392Z",
     "iopub.status.idle": "2024-04-07T06:35:26.706356Z",
     "shell.execute_reply": "2024-04-07T06:35:26.705256Z",
     "shell.execute_reply.started": "2024-04-07T06:35:26.242493Z"
    }
   },
   "outputs": [
    {
     "name": "stdout",
     "output_type": "stream",
     "text": [
      "SVM's Accuracy is:  0.1709090909090909\n",
      "              precision    recall  f1-score   support\n",
      "\n",
      "       Apple       1.00      0.29      0.45        24\n",
      "      Banana       1.00      0.95      0.97        19\n",
      "   Blackgram       1.00      0.40      0.57        20\n",
      "    ChickPea       1.00      0.12      0.21        26\n",
      "     Coconut       0.00      0.00      0.00        27\n",
      "      Coffee       1.00      0.04      0.07        26\n",
      "      Cotton       1.00      0.17      0.29        24\n",
      "      Grapes       1.00      0.09      0.16        23\n",
      "        Jute       1.00      0.13      0.23        31\n",
      " KidneyBeans       1.00      0.08      0.15        25\n",
      "      Lentil       1.00      0.04      0.07        26\n",
      "       Maize       0.00      0.00      0.00        26\n",
      "       Mango       1.00      0.03      0.06        31\n",
      "   MothBeans       0.00      0.00      0.00        25\n",
      "    MungBean       1.00      0.10      0.19        29\n",
      "   Muskmelon       1.00      0.27      0.42        26\n",
      "      Orange       1.00      0.03      0.06        34\n",
      "      Papaya       1.00      0.04      0.08        23\n",
      "  PigeonPeas       0.00      0.00      0.00        24\n",
      " Pomegranate       1.00      0.68      0.81        19\n",
      "        Rice       1.00      0.04      0.08        25\n",
      "  Watermelon       0.04      1.00      0.07        17\n",
      "\n",
      "    accuracy                           0.17       550\n",
      "   macro avg       0.77      0.20      0.22       550\n",
      "weighted avg       0.78      0.17      0.20       550\n",
      "\n"
     ]
    }
   ],
   "source": [
    "from sklearn.svm import SVC\n",
    "\n",
    "SVM = SVC(gamma='auto')\n",
    "\n",
    "SVM.fit(Xtrain,Ytrain)\n",
    "\n",
    "predicted_values = SVM.predict(Xtest)\n",
    "\n",
    "x = metrics.accuracy_score(Ytest, predicted_values)\n",
    "acc.append(x)\n",
    "model.append('SVM')\n",
    "print(\"SVM's Accuracy is: \", x)\n",
    "\n",
    "print(classification_report(Ytest,predicted_values))"
   ]
  },
  {
   "cell_type": "code",
   "execution_count": 26,
   "metadata": {
    "execution": {
     "iopub.execute_input": "2024-04-07T06:35:27.727529Z",
     "iopub.status.busy": "2024-04-07T06:35:27.726630Z",
     "iopub.status.idle": "2024-04-07T06:35:29.923000Z",
     "shell.execute_reply": "2024-04-07T06:35:29.922167Z",
     "shell.execute_reply.started": "2024-04-07T06:35:27.727479Z"
    }
   },
   "outputs": [
    {
     "data": {
      "text/plain": [
       "array([0.28863636, 0.30909091, 0.31818182, 0.29545455, 0.27727273])"
      ]
     },
     "execution_count": 26,
     "metadata": {},
     "output_type": "execute_result"
    }
   ],
   "source": [
    "# Cross validation score (SVM)\n",
    "score = cross_val_score(SVM,features,target,cv=5)\n",
    "score"
   ]
  },
  {
   "cell_type": "markdown",
   "metadata": {},
   "source": [
    "# Logistic Regression"
   ]
  },
  {
   "cell_type": "code",
   "execution_count": 27,
   "metadata": {
    "execution": {
     "iopub.execute_input": "2024-04-07T06:35:31.891518Z",
     "iopub.status.busy": "2024-04-07T06:35:31.890492Z",
     "iopub.status.idle": "2024-04-07T06:35:32.141474Z",
     "shell.execute_reply": "2024-04-07T06:35:32.140163Z",
     "shell.execute_reply.started": "2024-04-07T06:35:31.891476Z"
    }
   },
   "outputs": [
    {
     "name": "stdout",
     "output_type": "stream",
     "text": [
      "Logistic Regression's Accuracy is:  0.98\n",
      "              precision    recall  f1-score   support\n",
      "\n",
      "       Apple       1.00      1.00      1.00        24\n",
      "      Banana       1.00      1.00      1.00        19\n",
      "   Blackgram       0.94      0.80      0.86        20\n",
      "    ChickPea       1.00      1.00      1.00        26\n",
      "     Coconut       1.00      1.00      1.00        27\n",
      "      Coffee       1.00      1.00      1.00        26\n",
      "      Cotton       1.00      1.00      1.00        24\n",
      "      Grapes       1.00      1.00      1.00        23\n",
      "        Jute       1.00      1.00      1.00        31\n",
      " KidneyBeans       1.00      1.00      1.00        25\n",
      "      Lentil       0.81      1.00      0.90        26\n",
      "       Maize       1.00      1.00      1.00        26\n",
      "       Mango       1.00      1.00      1.00        31\n",
      "   MothBeans       0.84      0.84      0.84        25\n",
      "    MungBean       1.00      0.97      0.98        29\n",
      "   Muskmelon       1.00      1.00      1.00        26\n",
      "      Orange       1.00      1.00      1.00        34\n",
      "      Papaya       1.00      0.91      0.95        23\n",
      "  PigeonPeas       1.00      1.00      1.00        24\n",
      " Pomegranate       1.00      1.00      1.00        19\n",
      "        Rice       1.00      1.00      1.00        25\n",
      "  Watermelon       1.00      1.00      1.00        17\n",
      "\n",
      "    accuracy                           0.98       550\n",
      "   macro avg       0.98      0.98      0.98       550\n",
      "weighted avg       0.98      0.98      0.98       550\n",
      "\n"
     ]
    }
   ],
   "source": [
    "from sklearn.linear_model import LogisticRegression\n",
    "\n",
    "LogReg = LogisticRegression(random_state=2)\n",
    "\n",
    "LogReg.fit(Xtrain,Ytrain)\n",
    "\n",
    "predicted_values = LogReg.predict(Xtest)\n",
    "\n",
    "x = metrics.accuracy_score(Ytest, predicted_values)\n",
    "acc.append(x)\n",
    "model.append('Logistic Regression')\n",
    "print(\"Logistic Regression's Accuracy is: \", x)\n",
    "\n",
    "print(classification_report(Ytest,predicted_values))"
   ]
  },
  {
   "cell_type": "code",
   "execution_count": 28,
   "metadata": {
    "execution": {
     "iopub.execute_input": "2024-04-07T06:35:34.037994Z",
     "iopub.status.busy": "2024-04-07T06:35:34.037527Z",
     "iopub.status.idle": "2024-04-07T06:35:35.219520Z",
     "shell.execute_reply": "2024-04-07T06:35:35.218306Z",
     "shell.execute_reply.started": "2024-04-07T06:35:34.037964Z"
    }
   },
   "outputs": [
    {
     "data": {
      "text/plain": [
       "array([0.97272727, 0.98409091, 0.98636364, 0.98181818, 0.97727273])"
      ]
     },
     "execution_count": 28,
     "metadata": {},
     "output_type": "execute_result"
    }
   ],
   "source": [
    "# Cross validation score (Logistic Regression)\n",
    "score = cross_val_score(LogReg,features,target,cv=5)\n",
    "score"
   ]
  },
  {
   "cell_type": "markdown",
   "metadata": {},
   "source": [
    "### Saving trained Logistic Regression model"
   ]
  },
  {
   "cell_type": "code",
   "execution_count": 29,
   "metadata": {
    "execution": {
     "iopub.execute_input": "2024-04-07T06:35:39.888982Z",
     "iopub.status.busy": "2024-04-07T06:35:39.888419Z",
     "iopub.status.idle": "2024-04-07T06:35:39.896360Z",
     "shell.execute_reply": "2024-04-07T06:35:39.895305Z",
     "shell.execute_reply.started": "2024-04-07T06:35:39.888940Z"
    }
   },
   "outputs": [],
   "source": [
    "import pickle\n",
    "# Dump the trained Naive Bayes classifier with Pickle\n",
    "LR_pkl_filename = 'LogisticRegression.pkl'\n",
    "# Open the file to save as pkl file\n",
    "LR_Model_pkl = open(DT_pkl_filename, 'wb')\n",
    "pickle.dump(LogReg, LR_Model_pkl)\n",
    "# Close the pickle instances\n",
    "LR_Model_pkl.close()"
   ]
  },
  {
   "cell_type": "markdown",
   "metadata": {},
   "source": [
    "# Random Forest"
   ]
  },
  {
   "cell_type": "code",
   "execution_count": 30,
   "metadata": {
    "execution": {
     "iopub.execute_input": "2024-04-07T06:35:44.049315Z",
     "iopub.status.busy": "2024-04-07T06:35:44.048886Z",
     "iopub.status.idle": "2024-04-07T06:35:44.223245Z",
     "shell.execute_reply": "2024-04-07T06:35:44.222216Z",
     "shell.execute_reply.started": "2024-04-07T06:35:44.049287Z"
    }
   },
   "outputs": [
    {
     "name": "stdout",
     "output_type": "stream",
     "text": [
      "RF's Accuracy is:  1.0\n",
      "              precision    recall  f1-score   support\n",
      "\n",
      "       Apple       1.00      1.00      1.00        24\n",
      "      Banana       1.00      1.00      1.00        19\n",
      "   Blackgram       1.00      1.00      1.00        20\n",
      "    ChickPea       1.00      1.00      1.00        26\n",
      "     Coconut       1.00      1.00      1.00        27\n",
      "      Coffee       1.00      1.00      1.00        26\n",
      "      Cotton       1.00      1.00      1.00        24\n",
      "      Grapes       1.00      1.00      1.00        23\n",
      "        Jute       1.00      1.00      1.00        31\n",
      " KidneyBeans       1.00      1.00      1.00        25\n",
      "      Lentil       1.00      1.00      1.00        26\n",
      "       Maize       1.00      1.00      1.00        26\n",
      "       Mango       1.00      1.00      1.00        31\n",
      "   MothBeans       1.00      1.00      1.00        25\n",
      "    MungBean       1.00      1.00      1.00        29\n",
      "   Muskmelon       1.00      1.00      1.00        26\n",
      "      Orange       1.00      1.00      1.00        34\n",
      "      Papaya       1.00      1.00      1.00        23\n",
      "  PigeonPeas       1.00      1.00      1.00        24\n",
      " Pomegranate       1.00      1.00      1.00        19\n",
      "        Rice       1.00      1.00      1.00        25\n",
      "  Watermelon       1.00      1.00      1.00        17\n",
      "\n",
      "    accuracy                           1.00       550\n",
      "   macro avg       1.00      1.00      1.00       550\n",
      "weighted avg       1.00      1.00      1.00       550\n",
      "\n"
     ]
    }
   ],
   "source": [
    "from sklearn.ensemble import RandomForestClassifier\n",
    "\n",
    "RF = RandomForestClassifier(n_estimators=20, random_state=0)\n",
    "RF.fit(Xtrain,Ytrain)\n",
    "\n",
    "predicted_values = RF.predict(Xtest)\n",
    "\n",
    "x = metrics.accuracy_score(Ytest, predicted_values)\n",
    "acc.append(x)\n",
    "model.append('RF')\n",
    "print(\"RF's Accuracy is: \", x)\n",
    "\n",
    "print(classification_report(Ytest,predicted_values))"
   ]
  },
  {
   "cell_type": "code",
   "execution_count": 31,
   "metadata": {
    "execution": {
     "iopub.execute_input": "2024-04-07T06:35:45.454531Z",
     "iopub.status.busy": "2024-04-07T06:35:45.453635Z",
     "iopub.status.idle": "2024-04-07T06:35:45.885123Z",
     "shell.execute_reply": "2024-04-07T06:35:45.883900Z",
     "shell.execute_reply.started": "2024-04-07T06:35:45.454483Z"
    }
   },
   "outputs": [
    {
     "data": {
      "text/plain": [
       "array([1.        , 1.        , 1.        , 1.        , 0.99318182])"
      ]
     },
     "execution_count": 31,
     "metadata": {},
     "output_type": "execute_result"
    }
   ],
   "source": [
    "# Cross validation score (Random Forest)\n",
    "score = cross_val_score(RF,features,target,cv=5)\n",
    "score"
   ]
  },
  {
   "cell_type": "markdown",
   "metadata": {},
   "source": [
    "### Saving trained Random Forest model"
   ]
  },
  {
   "cell_type": "code",
   "execution_count": 32,
   "metadata": {
    "execution": {
     "iopub.execute_input": "2024-04-07T06:39:48.080793Z",
     "iopub.status.busy": "2024-04-07T06:39:48.080324Z",
     "iopub.status.idle": "2024-04-07T06:39:48.091238Z",
     "shell.execute_reply": "2024-04-07T06:39:48.089769Z",
     "shell.execute_reply.started": "2024-04-07T06:39:48.080762Z"
    }
   },
   "outputs": [],
   "source": [
    "import pickle\n",
    "# Dump the trained Naive Bayes classifier with Pickle\n",
    "RF_pkl_filename = 'RandomForest.pkl'\n",
    "# Open the file to save as pkl file\n",
    "RF_Model_pkl = open(RF_pkl_filename, 'wb')\n",
    "pickle.dump(RF, RF_Model_pkl)\n",
    "# Close the pickle instances\n",
    "RF_Model_pkl.close()"
   ]
  },
  {
   "cell_type": "markdown",
   "metadata": {},
   "source": [
    "## Accuracy Comparison"
   ]
  },
  {
   "cell_type": "code",
   "execution_count": 33,
   "metadata": {
    "execution": {
     "iopub.execute_input": "2024-04-07T06:39:56.287564Z",
     "iopub.status.busy": "2024-04-07T06:39:56.286731Z",
     "iopub.status.idle": "2024-04-07T06:39:56.553243Z",
     "shell.execute_reply": "2024-04-07T06:39:56.552019Z",
     "shell.execute_reply.started": "2024-04-07T06:39:56.287515Z"
    }
   },
   "outputs": [
    {
     "data": {
      "text/plain": [
       "<Axes: title={'center': 'Accuracy Comparison'}, xlabel='Accuracy', ylabel='Algorithm'>"
      ]
     },
     "execution_count": 33,
     "metadata": {},
     "output_type": "execute_result"
    },
    {
     "data": {
      "image/png": "[encoded data removed]",
      "text/plain": [
       "<Figure size 1000x500 with 1 Axes>"
      ]
     },
     "metadata": {},
     "output_type": "display_data"
    }
   ],
   "source": [
    "plt.figure(figsize=[10,5],dpi = 100)\n",
    "plt.title('Accuracy Comparison')\n",
    "plt.xlabel('Accuracy')\n",
    "plt.ylabel('Algorithm')\n",
    "sns.barplot(x = acc,y = model,palette='dark')"
   ]
  },
  {
   "cell_type": "code",
   "execution_count": 34,
   "metadata": {
    "execution": {
     "iopub.execute_input": "2024-04-07T06:40:06.924050Z",
     "iopub.status.busy": "2024-04-07T06:40:06.923209Z",
     "iopub.status.idle": "2024-04-07T06:40:06.930772Z",
     "shell.execute_reply": "2024-04-07T06:40:06.929532Z",
     "shell.execute_reply.started": "2024-04-07T06:40:06.924008Z"
    }
   },
   "outputs": [
    {
     "name": "stdout",
     "output_type": "stream",
     "text": [
      "Decision Tree --> 0.9763636363636363\n",
      "Naive Bayes --> 0.9981818181818182\n",
      "SVM --> 0.1709090909090909\n",
      "Logistic Regression --> 0.98\n",
      "RF --> 1.0\n"
     ]
    }
   ],
   "source": [
    "accuracy_models = dict(zip(model, acc))\n",
    "for k, v in accuracy_models.items():\n",
    "    print (k, '-->', v)"
   ]
  },
  {
   "cell_type": "markdown",
   "metadata": {},
   "source": [
    "## Making a prediction"
   ]
  },
  {
   "cell_type": "code",
   "execution_count": 35,
   "metadata": {
    "execution": {
     "iopub.execute_input": "2024-04-07T06:39:03.023258Z",
     "iopub.status.busy": "2024-04-07T06:39:03.022779Z",
     "iopub.status.idle": "2024-04-07T06:39:03.033710Z",
     "shell.execute_reply": "2024-04-07T06:39:03.032604Z",
     "shell.execute_reply.started": "2024-04-07T06:39:03.023220Z"
    }
   },
   "outputs": [
    {
     "name": "stdout",
     "output_type": "stream",
     "text": [
      "['Maize']\n"
     ]
    }
   ],
   "source": [
    "data = np.array([[104,18, 30, 23.603016, 60.3, 6.7, 140, 6]])\n",
    "prediction = RF.predict(data)\n",
    "print(prediction)"
   ]
  },
  {
   "cell_type": "code",
   "execution_count": 36,
   "metadata": {},
   "outputs": [
    {
     "ename": "ValueError",
     "evalue": "X has 7 features, but RandomForestClassifier is expecting 8 features as input.",
     "output_type": "error",
     "traceback": [
      "\u001b[0;31m---------------------------------------------------------------------------\u001b[0m",
      "\u001b[0;31mValueError\u001b[0m                                Traceback (most recent call last)",
      "Cell \u001b[0;32mIn[36], line 2\u001b[0m\n\u001b[1;32m      1\u001b[0m data \u001b[38;5;241m=\u001b[39m np\u001b[38;5;241m.\u001b[39marray([[\u001b[38;5;241m83\u001b[39m, \u001b[38;5;241m45\u001b[39m, \u001b[38;5;241m60\u001b[39m, \u001b[38;5;241m28\u001b[39m, \u001b[38;5;241m70.3\u001b[39m, \u001b[38;5;241m7.0\u001b[39m, \u001b[38;5;241m150.9\u001b[39m]])\n\u001b[0;32m----> 2\u001b[0m prediction \u001b[38;5;241m=\u001b[39m RF\u001b[38;5;241m.\u001b[39mpredict(data)\n\u001b[1;32m      3\u001b[0m \u001b[38;5;28mprint\u001b[39m(prediction)\n",
      "File \u001b[0;32m~/anaconda3/lib/python3.11/site-packages/sklearn/ensemble/_forest.py:823\u001b[0m, in \u001b[0;36mForestClassifier.predict\u001b[0;34m(self, X)\u001b[0m\n\u001b[1;32m    802\u001b[0m \u001b[38;5;28;01mdef\u001b[39;00m \u001b[38;5;21mpredict\u001b[39m(\u001b[38;5;28mself\u001b[39m, X):\n\u001b[1;32m    803\u001b[0m \u001b[38;5;250m    \u001b[39m\u001b[38;5;124;03m\"\"\"\u001b[39;00m\n\u001b[1;32m    804\u001b[0m \u001b[38;5;124;03m    Predict class for X.\u001b[39;00m\n\u001b[1;32m    805\u001b[0m \n\u001b[0;32m   (...)\u001b[0m\n\u001b[1;32m    821\u001b[0m \u001b[38;5;124;03m        The predicted classes.\u001b[39;00m\n\u001b[1;32m    822\u001b[0m \u001b[38;5;124;03m    \"\"\"\u001b[39;00m\n\u001b[0;32m--> 823\u001b[0m     proba \u001b[38;5;241m=\u001b[39m \u001b[38;5;28mself\u001b[39m\u001b[38;5;241m.\u001b[39mpredict_proba(X)\n\u001b[1;32m    825\u001b[0m     \u001b[38;5;28;01mif\u001b[39;00m \u001b[38;5;28mself\u001b[39m\u001b[38;5;241m.\u001b[39mn_outputs_ \u001b[38;5;241m==\u001b[39m \u001b[38;5;241m1\u001b[39m:\n\u001b[1;32m    826\u001b[0m         \u001b[38;5;28;01mreturn\u001b[39;00m \u001b[38;5;28mself\u001b[39m\u001b[38;5;241m.\u001b[39mclasses_\u001b[38;5;241m.\u001b[39mtake(np\u001b[38;5;241m.\u001b[39margmax(proba, axis\u001b[38;5;241m=\u001b[39m\u001b[38;5;241m1\u001b[39m), axis\u001b[38;5;241m=\u001b[39m\u001b[38;5;241m0\u001b[39m)\n",
      "File \u001b[0;32m~/anaconda3/lib/python3.11/site-packages/sklearn/ensemble/_forest.py:865\u001b[0m, in \u001b[0;36mForestClassifier.predict_proba\u001b[0;34m(self, X)\u001b[0m\n\u001b[1;32m    863\u001b[0m check_is_fitted(\u001b[38;5;28mself\u001b[39m)\n\u001b[1;32m    864\u001b[0m \u001b[38;5;66;03m# Check data\u001b[39;00m\n\u001b[0;32m--> 865\u001b[0m X \u001b[38;5;241m=\u001b[39m \u001b[38;5;28mself\u001b[39m\u001b[38;5;241m.\u001b[39m_validate_X_predict(X)\n\u001b[1;32m    867\u001b[0m \u001b[38;5;66;03m# Assign chunk of trees to jobs\u001b[39;00m\n\u001b[1;32m    868\u001b[0m n_jobs, _, _ \u001b[38;5;241m=\u001b[39m _partition_estimators(\u001b[38;5;28mself\u001b[39m\u001b[38;5;241m.\u001b[39mn_estimators, \u001b[38;5;28mself\u001b[39m\u001b[38;5;241m.\u001b[39mn_jobs)\n",
      "File \u001b[0;32m~/anaconda3/lib/python3.11/site-packages/sklearn/ensemble/_forest.py:599\u001b[0m, in \u001b[0;36mBaseForest._validate_X_predict\u001b[0;34m(self, X)\u001b[0m\n\u001b[1;32m    596\u001b[0m \u001b[38;5;250m\u001b[39m\u001b[38;5;124;03m\"\"\"\u001b[39;00m\n\u001b[1;32m    597\u001b[0m \u001b[38;5;124;03mValidate X whenever one tries to predict, apply, predict_proba.\"\"\"\u001b[39;00m\n\u001b[1;32m    598\u001b[0m check_is_fitted(\u001b[38;5;28mself\u001b[39m)\n\u001b[0;32m--> 599\u001b[0m X \u001b[38;5;241m=\u001b[39m \u001b[38;5;28mself\u001b[39m\u001b[38;5;241m.\u001b[39m_validate_data(X, dtype\u001b[38;5;241m=\u001b[39mDTYPE, accept_sparse\u001b[38;5;241m=\u001b[39m\u001b[38;5;124m\"\u001b[39m\u001b[38;5;124mcsr\u001b[39m\u001b[38;5;124m\"\u001b[39m, reset\u001b[38;5;241m=\u001b[39m\u001b[38;5;28;01mFalse\u001b[39;00m)\n\u001b[1;32m    600\u001b[0m \u001b[38;5;28;01mif\u001b[39;00m issparse(X) \u001b[38;5;129;01mand\u001b[39;00m (X\u001b[38;5;241m.\u001b[39mindices\u001b[38;5;241m.\u001b[39mdtype \u001b[38;5;241m!=\u001b[39m np\u001b[38;5;241m.\u001b[39mintc \u001b[38;5;129;01mor\u001b[39;00m X\u001b[38;5;241m.\u001b[39mindptr\u001b[38;5;241m.\u001b[39mdtype \u001b[38;5;241m!=\u001b[39m np\u001b[38;5;241m.\u001b[39mintc):\n\u001b[1;32m    601\u001b[0m     \u001b[38;5;28;01mraise\u001b[39;00m \u001b[38;5;167;01mValueError\u001b[39;00m(\u001b[38;5;124m\"\u001b[39m\u001b[38;5;124mNo support for np.int64 index based sparse matrices\u001b[39m\u001b[38;5;124m\"\u001b[39m)\n",
      "File \u001b[0;32m~/anaconda3/lib/python3.11/site-packages/sklearn/base.py:625\u001b[0m, in \u001b[0;36mBaseEstimator._validate_data\u001b[0;34m(self, X, y, reset, validate_separately, cast_to_ndarray, **check_params)\u001b[0m\n\u001b[1;32m    622\u001b[0m     out \u001b[38;5;241m=\u001b[39m X, y\n\u001b[1;32m    624\u001b[0m \u001b[38;5;28;01mif\u001b[39;00m \u001b[38;5;129;01mnot\u001b[39;00m no_val_X \u001b[38;5;129;01mand\u001b[39;00m check_params\u001b[38;5;241m.\u001b[39mget(\u001b[38;5;124m\"\u001b[39m\u001b[38;5;124mensure_2d\u001b[39m\u001b[38;5;124m\"\u001b[39m, \u001b[38;5;28;01mTrue\u001b[39;00m):\n\u001b[0;32m--> 625\u001b[0m     \u001b[38;5;28mself\u001b[39m\u001b[38;5;241m.\u001b[39m_check_n_features(X, reset\u001b[38;5;241m=\u001b[39mreset)\n\u001b[1;32m    627\u001b[0m \u001b[38;5;28;01mreturn\u001b[39;00m out\n",
      "File \u001b[0;32m~/anaconda3/lib/python3.11/site-packages/sklearn/base.py:414\u001b[0m, in \u001b[0;36mBaseEstimator._check_n_features\u001b[0;34m(self, X, reset)\u001b[0m\n\u001b[1;32m    411\u001b[0m     \u001b[38;5;28;01mreturn\u001b[39;00m\n\u001b[1;32m    413\u001b[0m \u001b[38;5;28;01mif\u001b[39;00m n_features \u001b[38;5;241m!=\u001b[39m \u001b[38;5;28mself\u001b[39m\u001b[38;5;241m.\u001b[39mn_features_in_:\n\u001b[0;32m--> 414\u001b[0m     \u001b[38;5;28;01mraise\u001b[39;00m \u001b[38;5;167;01mValueError\u001b[39;00m(\n\u001b[1;32m    415\u001b[0m         \u001b[38;5;124mf\u001b[39m\u001b[38;5;124m\"\u001b[39m\u001b[38;5;124mX has \u001b[39m\u001b[38;5;132;01m{\u001b[39;00mn_features\u001b[38;5;132;01m}\u001b[39;00m\u001b[38;5;124m features, but \u001b[39m\u001b[38;5;132;01m{\u001b[39;00m\u001b[38;5;28mself\u001b[39m\u001b[38;5;241m.\u001b[39m\u001b[38;5;18m__class__\u001b[39m\u001b[38;5;241m.\u001b[39m\u001b[38;5;18m__name__\u001b[39m\u001b[38;5;132;01m}\u001b[39;00m\u001b[38;5;124m \u001b[39m\u001b[38;5;124m\"\u001b[39m\n\u001b[1;32m    416\u001b[0m         \u001b[38;5;124mf\u001b[39m\u001b[38;5;124m\"\u001b[39m\u001b[38;5;124mis expecting \u001b[39m\u001b[38;5;132;01m{\u001b[39;00m\u001b[38;5;28mself\u001b[39m\u001b[38;5;241m.\u001b[39mn_features_in_\u001b[38;5;132;01m}\u001b[39;00m\u001b[38;5;124m features as input.\u001b[39m\u001b[38;5;124m\"\u001b[39m\n\u001b[1;32m    417\u001b[0m     )\n",
      "\u001b[0;31mValueError\u001b[0m: X has 7 features, but RandomForestClassifier is expecting 8 features as input."
     ]
    }
   ],
   "source": [
    "data = np.array([[83, 45, 60, 28, 70.3, 7.0, 150.9]])\n",
    "prediction = RF.predict(data)\n",
    "print(prediction)"
   ]
  },
  {
   "cell_type": "code",
   "execution_count": null,
   "metadata": {},
   "outputs": [],
   "source": []
  }
 ],
 "metadata": {
  "kaggle": {
   "accelerator": "none",
   "dataSources": [
    {
     "datasetId": 4485141,
     "sourceId": 7686231,
     "sourceType": "datasetVersion"
    }
   ],
   "dockerImageVersionId": 30646,
   "isGpuEnabled": false,
   "isInternetEnabled": false,
   "language": "python",
   "sourceType": "notebook"
  },
  "kernelspec": {
   "display_name": "Python 3 (ipykernel)",
   "language": "python",
   "name": "python3"
  },
  "language_info": {
   "codemirror_mode": {
    "name": "ipython",
    "version": 3
   },
   "file_extension": ".py",
   "mimetype": "text/x-python",
   "name": "python",
   "nbconvert_exporter": "python",
   "pygments_lexer": "ipython3",
   "version": "3.11.5"
  }
 },
 "nbformat": 4,
 "nbformat_minor": 4
}
